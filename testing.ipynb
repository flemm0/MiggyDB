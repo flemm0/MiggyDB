{
 "cells": [
  {
   "cell_type": "code",
   "execution_count": 22,
   "metadata": {},
   "outputs": [],
   "source": [
    "import tempfile\n",
    "import pathlib\n",
    "import pyarrow as pa\n",
    "import pyarrow.parquet as pq\n",
    "import numpy as np\n",
    "\n",
    "import pyarrow.compute as pc"
   ]
  },
  {
   "cell_type": "code",
   "execution_count": 2,
   "metadata": {},
   "outputs": [],
   "source": [
    "base = pathlib.Path(tempfile.mkdtemp(prefix=\"pyarrow-\"))"
   ]
  },
  {
   "cell_type": "code",
   "execution_count": 3,
   "metadata": {},
   "outputs": [
    {
     "data": {
      "text/plain": [
       "PosixPath('/tmp/pyarrow-4lpn979o')"
      ]
     },
     "execution_count": 3,
     "metadata": {},
     "output_type": "execute_result"
    }
   ],
   "source": [
    "base"
   ]
  },
  {
   "cell_type": "code",
   "execution_count": 13,
   "metadata": {},
   "outputs": [],
   "source": [
    "import os\n",
    "import polars as pl"
   ]
  },
  {
   "cell_type": "code",
   "execution_count": 15,
   "metadata": {},
   "outputs": [
    {
     "name": "stdout",
     "output_type": "stream",
     "text": [
      "Size: 0.2697105407714844 MB\n"
     ]
    }
   ],
   "source": [
    "def get_size(path, unit='MB'):\n",
    "    size = os.path.getsize(path)\n",
    "    if unit == 'MB':\n",
    "        print(f'Size: {size / (1024 * 1024)} MB')\n",
    "    elif unit == 'GB':\n",
    "        print(f'Size: {size / (1024 * 1024 * 1024)} GB')\n",
    "    else:\n",
    "        print(f'Size: {size} B')\n",
    "\n",
    "path = './data/test/playlist_2010to2022.parquet'\n",
    "\n",
    "get_size(path=path)"
   ]
  },
  {
   "cell_type": "code",
   "execution_count": 34,
   "metadata": {},
   "outputs": [
    {
     "name": "stdout",
     "output_type": "stream",
     "text": [
      "Size: 458.2281322479248 MB\n"
     ]
    }
   ],
   "source": [
    "get_size('data/test2/audio_features.csv', 'MB')"
   ]
  },
  {
   "cell_type": "code",
   "execution_count": 37,
   "metadata": {},
   "outputs": [
    {
     "data": {
      "text/html": [
       "<div><style>\n",
       ".dataframe > thead > tr > th,\n",
       ".dataframe > tbody > tr > td {\n",
       "  text-align: right;\n",
       "  white-space: pre-wrap;\n",
       "}\n",
       "</style>\n",
       "<small>shape: (5, 15)</small><table border=\"1\" class=\"dataframe\"><thead><tr><th>isrc</th><th>acousticness</th><th>danceability</th><th>duration_ms</th><th>energy</th><th>instrumentalness</th><th>key</th><th>liveness</th><th>loudness</th><th>mode</th><th>speechiness</th><th>tempo</th><th>time_signature</th><th>valence</th><th>updated_on</th></tr><tr><td>str</td><td>f64</td><td>f64</td><td>i64</td><td>f64</td><td>f64</td><td>i64</td><td>f64</td><td>f64</td><td>i64</td><td>f64</td><td>i64</td><td>i64</td><td>f64</td><td>str</td></tr></thead><tbody><tr><td>&quot;AD4X65752184&quot;</td><td>0.906</td><td>0.65</td><td>296733</td><td>0.35</td><td>0.775</td><td>3</td><td>0.114</td><td>-11.777</td><td>1</td><td>0.0284</td><td>110</td><td>4</td><td>0.336</td><td>&quot;2023-08-24 09:…</td></tr><tr><td>&quot;AEA0D1991170&quot;</td><td>0.00095</td><td>0.621</td><td>191989</td><td>0.639</td><td>0.82</td><td>7</td><td>0.506</td><td>-9.258</td><td>1</td><td>0.0775</td><td>140</td><td>4</td><td>0.346</td><td>&quot;2023-08-24 09:…</td></tr><tr><td>&quot;AEA0Q2004008&quot;</td><td>0.0312</td><td>0.692</td><td>282904</td><td>0.98</td><td>0.866</td><td>9</td><td>0.0969</td><td>-9.952</td><td>1</td><td>0.0881</td><td>140</td><td>4</td><td>0.225</td><td>&quot;2023-08-24 09:…</td></tr><tr><td>&quot;AEA0Q2004009&quot;</td><td>0.000558</td><td>0.516</td><td>197904</td><td>0.924</td><td>0.434</td><td>5</td><td>0.153</td><td>-13.564</td><td>0</td><td>0.22</td><td>148</td><td>4</td><td>0.204</td><td>&quot;2023-08-24 09:…</td></tr><tr><td>&quot;AEA0Q2004010&quot;</td><td>0.00938</td><td>0.587</td><td>199471</td><td>0.91</td><td>0.804</td><td>0</td><td>0.563</td><td>-10.552</td><td>1</td><td>0.0596</td><td>136</td><td>4</td><td>0.321</td><td>&quot;2023-08-24 09:…</td></tr></tbody></table></div>"
      ],
      "text/plain": [
       "shape: (5, 15)\n",
       "┌────────────┬────────────┬────────────┬────────────┬───┬───────┬────────────┬─────────┬───────────┐\n",
       "│ isrc       ┆ acousticne ┆ danceabili ┆ duration_m ┆ … ┆ tempo ┆ time_signa ┆ valence ┆ updated_o │\n",
       "│ ---        ┆ ss         ┆ ty         ┆ s          ┆   ┆ ---   ┆ ture       ┆ ---     ┆ n         │\n",
       "│ str        ┆ ---        ┆ ---        ┆ ---        ┆   ┆ i64   ┆ ---        ┆ f64     ┆ ---       │\n",
       "│            ┆ f64        ┆ f64        ┆ i64        ┆   ┆       ┆ i64        ┆         ┆ str       │\n",
       "╞════════════╪════════════╪════════════╪════════════╪═══╪═══════╪════════════╪═════════╪═══════════╡\n",
       "│ AD4X657521 ┆ 0.906      ┆ 0.65       ┆ 296733     ┆ … ┆ 110   ┆ 4          ┆ 0.336   ┆ 2023-08-2 │\n",
       "│ 84         ┆            ┆            ┆            ┆   ┆       ┆            ┆         ┆ 4         │\n",
       "│            ┆            ┆            ┆            ┆   ┆       ┆            ┆         ┆ 09:27:00  │\n",
       "│ AEA0D19911 ┆ 0.00095    ┆ 0.621      ┆ 191989     ┆ … ┆ 140   ┆ 4          ┆ 0.346   ┆ 2023-08-2 │\n",
       "│ 70         ┆            ┆            ┆            ┆   ┆       ┆            ┆         ┆ 4         │\n",
       "│            ┆            ┆            ┆            ┆   ┆       ┆            ┆         ┆ 09:30:04  │\n",
       "│ AEA0Q20040 ┆ 0.0312     ┆ 0.692      ┆ 282904     ┆ … ┆ 140   ┆ 4          ┆ 0.225   ┆ 2023-08-2 │\n",
       "│ 08         ┆            ┆            ┆            ┆   ┆       ┆            ┆         ┆ 4         │\n",
       "│            ┆            ┆            ┆            ┆   ┆       ┆            ┆         ┆ 09:30:04  │\n",
       "│ AEA0Q20040 ┆ 0.000558   ┆ 0.516      ┆ 197904     ┆ … ┆ 148   ┆ 4          ┆ 0.204   ┆ 2023-08-2 │\n",
       "│ 09         ┆            ┆            ┆            ┆   ┆       ┆            ┆         ┆ 4         │\n",
       "│            ┆            ┆            ┆            ┆   ┆       ┆            ┆         ┆ 09:30:04  │\n",
       "│ AEA0Q20040 ┆ 0.00938    ┆ 0.587      ┆ 199471     ┆ … ┆ 136   ┆ 4          ┆ 0.321   ┆ 2023-08-2 │\n",
       "│ 10         ┆            ┆            ┆            ┆   ┆       ┆            ┆         ┆ 4         │\n",
       "│            ┆            ┆            ┆            ┆   ┆       ┆            ┆         ┆ 09:30:04  │\n",
       "└────────────┴────────────┴────────────┴────────────┴───┴───────┴────────────┴─────────┴───────────┘"
      ]
     },
     "execution_count": 37,
     "metadata": {},
     "output_type": "execute_result"
    }
   ],
   "source": [
    "pl.read_csv('data/test2/audio_features.csv').head()"
   ]
  },
  {
   "cell_type": "code",
   "execution_count": 40,
   "metadata": {},
   "outputs": [
    {
     "data": {
      "text/plain": [
       "pyarrow.Table\n",
       "isrc: string\n",
       "acousticness: double\n",
       "danceability: double\n",
       "duration_ms: int64\n",
       "energy: double\n",
       "instrumentalness: double\n",
       "key: int64\n",
       "liveness: double\n",
       "loudness: double\n",
       "mode: int64\n",
       "speechiness: double\n",
       "tempo: int64\n",
       "time_signature: int64\n",
       "valence: double\n",
       "updated_on: timestamp[s]\n",
       "----\n",
       "isrc: [[\"AD4X65752184\",\"AEA0D1991170\",\"AEA0Q2004008\",\"AEA0Q2004009\",\"AEA0Q2004010\",...,\"DEAR41525750\",\"DEAR41525761\",\"DEAR41525763\",\"DEAR41526078\",\"DEAR41526200\"],[\"DEAR41526214\",\"DEAR41526249\",\"DEAR41526295\",\"DEAR41526357\",\"DEAR41526411\",...,\"DEGD91107503\",\"DEGD91107505\",\"DEGD91107507\",\"DEGD91107508\",\"DEGD91107509\"],...,[\"CH6541664408\",\"CH6542352743\",\"NLRD52200994\",\"ITZB42136724\",\"NLHR22100856\",...,\"DEAR41870698\",\"US8FK1100058\",\"QZ5FN1825826\",\"GBX6A2200154\",\"GBV8E1549001\"],[\"DECH60912164\",\"NLHR22200278\",\"DEAR42267680\",\"AEA2M2348807\",\"CA5KR1510187\",...,\"DEY472375687\",\"DEFR71400907\",\"GB7NR1743402\",\"DEZN82304108\",\"DEY471812426\"]]\n",
       "acousticness: [[0.906,0.00095,0.0312,0.000558,0.00938,...,0.0098,0.14,0.341,0.0176,0.00036],[0.0000239,0.109,0.00294,0.000376,0.0112,...,0.0291,0.00869,0.0015,0.00557,0.042],...,[0.000238,0.00296,0.000176,0.0847,0.000703,...,0.042,0.77,0.000122,0.0000841,0.000515],[0.000751,0.00122,0.000858,0.00959,0.00119,...,0.00984,0.00605,0.0137,0.361,0.0644]]\n",
       "danceability: [[0.65,0.621,0.692,0.516,0.587,...,0.796,0.79,0.713,0.756,0.451],[0.814,0.635,0.59,0.696,0.793,...,0.802,0.802,0.807,0.811,0.81],...,[0.798,0.717,0.806,0.593,0.712,...,0.655,0.234,0.718,0.466,0.87],[0.805,0.722,0.655,0.689,0.795,...,0.792,0.866,0.835,0.758,0.813]]\n",
       "duration_ms: [[296733,191989,282904,197904,199471,...,363158,251265,268000,383759,546372],[440656,289134,328571,275923,185238,...,249600,249600,249600,249600,249600],...,[465504,308576,503226,137143,489449,...,461455,96000,368640,341250,444075],[453760,451720,270542,276124,328000,...,364868,426356,534407,157555,437760]]\n",
       "energy: [[0.35,0.639,0.98,0.924,0.91,...,0.562,0.729,0.693,0.786,0.958],[0.805,0.857,0.78,0.886,0.895,...,0.686,0.678,0.58,0.613,0.803],...,[0.71,0.639,0.636,0.863,0.745,...,0.936,0.39,0.801,0.78,0.569],[0.575,0.783,0.881,0.577,0.835,...,0.708,0.842,0.451,0.706,0.724]]\n",
       "instrumentalness: [[0.775,0.82,0.866,0.434,0.804,...,0.883,0.00306,0.000042,0.805,0.896],[0.885,0.118,0.852,0.118,0.0000576,...,0.939,0.89,0.9,0.914,0.953],...,[0.792,0.728,0.921,0.784,0.903,...,0.955,0.967,0.939,0.917,0.417],[0.934,0.859,0.863,0.801,0.268,...,0.867,0.842,0.926,0.87,0.166]]\n",
       "key: [[3,7,9,5,0,...,11,8,7,4,5],[10,0,0,0,9,...,9,2,10,5,4],...,[0,6,10,4,6,...,4,4,0,11,9],[11,7,11,5,6,...,10,2,11,4,11]]\n",
       "liveness: [[0.114,0.506,0.0969,0.153,0.563,...,0.115,0.102,0.122,0.0679,0.59],[0.0695,0.0995,0.0745,0.0988,0.552,...,0.164,0.121,0.0973,0.0943,0.0832],...,[0.0726,0.114,0.103,0.224,0.0736,...,0.122,0.157,0.117,0.109,0.0278],[0.0897,0.039,0.646,0.0924,0.0873,...,0.066,0.86,0.0899,0.0755,0.175]]\n",
       "loudness: [[-11.777,-9.258,-9.952,-13.564,-10.552,...,-14.127,-6.381,-8.788,-5.619,-6.29],[-15.906,-7.186,-5.805,-6.079,-2.842,...,-9.673,-8.163,-9.117,-9.073,-9.068],...,[-4.955,-9.959,-8.923,-8.317,-10.184,...,-7.131,-23.852,-8.114,-7.661,-10.274],[-11.097,-8.975,-4.835,-9.385,-6.852,...,-10.468,-10.7,-13.879,-7.9,-9.789]]\n",
       "mode: [[1,1,1,0,1,...,0,1,1,0,0],[1,0,1,0,0,...,0,1,1,1,0],...,[1,1,0,0,1,...,1,0,1,0,0],[1,0,0,1,0,...,0,1,1,0,0]]\n",
       "..."
      ]
     },
     "execution_count": 40,
     "metadata": {},
     "output_type": "execute_result"
    }
   ],
   "source": [
    "from pyarrow import csv\n",
    "\n",
    "table = csv.read_csv('data/test2/audio_features.csv')\n",
    "table"
   ]
  },
  {
   "cell_type": "code",
   "execution_count": 41,
   "metadata": {},
   "outputs": [
    {
     "data": {
      "text/plain": [
       "<pyarrow.lib.ChunkedArray object at 0x7f410c1dd9e0>\n",
       "[\n",
       "  [\n",
       "    \"AD4X65752184\",\n",
       "    \"AEA0D1991170\",\n",
       "    \"AEA0Q2004008\",\n",
       "    \"AEA0Q2004009\",\n",
       "    \"AEA0Q2004010\",\n",
       "    ...\n",
       "    \"DEAR41525750\",\n",
       "    \"DEAR41525761\",\n",
       "    \"DEAR41525763\",\n",
       "    \"DEAR41526078\",\n",
       "    \"DEAR41526200\"\n",
       "  ],\n",
       "  [\n",
       "    \"DEAR41526214\",\n",
       "    \"DEAR41526249\",\n",
       "    \"DEAR41526295\",\n",
       "    \"DEAR41526357\",\n",
       "    \"DEAR41526411\",\n",
       "    ...\n",
       "    \"DEGD91107503\",\n",
       "    \"DEGD91107505\",\n",
       "    \"DEGD91107507\",\n",
       "    \"DEGD91107508\",\n",
       "    \"DEGD91107509\"\n",
       "  ],\n",
       "...,\n",
       "  [\n",
       "    \"CH6541664408\",\n",
       "    \"CH6542352743\",\n",
       "    \"NLRD52200994\",\n",
       "    \"ITZB42136724\",\n",
       "    \"NLHR22100856\",\n",
       "    ...\n",
       "    \"DEAR41870698\",\n",
       "    \"US8FK1100058\",\n",
       "    \"QZ5FN1825826\",\n",
       "    \"GBX6A2200154\",\n",
       "    \"GBV8E1549001\"\n",
       "  ],\n",
       "  [\n",
       "    \"DECH60912164\",\n",
       "    \"NLHR22200278\",\n",
       "    \"DEAR42267680\",\n",
       "    \"AEA2M2348807\",\n",
       "    \"CA5KR1510187\",\n",
       "    ...\n",
       "    \"DEY472375687\",\n",
       "    \"DEFR71400907\",\n",
       "    \"GB7NR1743402\",\n",
       "    \"DEZN82304108\",\n",
       "    \"DEY471812426\"\n",
       "  ]\n",
       "]"
      ]
     },
     "execution_count": 41,
     "metadata": {},
     "output_type": "execute_result"
    }
   ],
   "source": [
    "table['isrc']"
   ]
  },
  {
   "cell_type": "code",
   "execution_count": null,
   "metadata": {},
   "outputs": [],
   "source": []
  }
 ],
 "metadata": {
  "kernelspec": {
   "display_name": "Python 3",
   "language": "python",
   "name": "python3"
  },
  "language_info": {
   "codemirror_mode": {
    "name": "ipython",
    "version": 3
   },
   "file_extension": ".py",
   "mimetype": "text/x-python",
   "name": "python",
   "nbconvert_exporter": "python",
   "pygments_lexer": "ipython3",
   "version": "3.11.5"
  },
  "orig_nbformat": 4
 },
 "nbformat": 4,
 "nbformat_minor": 2
}
