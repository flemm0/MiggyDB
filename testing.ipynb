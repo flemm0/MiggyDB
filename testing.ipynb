{
 "cells": [
  {
   "cell_type": "code",
   "execution_count": 1,
   "metadata": {},
   "outputs": [],
   "source": [
    "import tempfile\n",
    "import pathlib\n",
    "import pyarrow as pa\n",
    "import pyarrow.parquet as pq\n",
    "import numpy as np\n",
    "\n",
    "import pyarrow.compute as pc\n",
    "from pyarrow import csv\n",
    "\n",
    "import os\n",
    "import polars as pl\n",
    "import math"
   ]
  },
  {
   "cell_type": "code",
   "execution_count": 49,
   "metadata": {},
   "outputs": [
    {
     "name": "stdout",
     "output_type": "stream",
     "text": [
      "Size: 0.2697105407714844 MB\n"
     ]
    }
   ],
   "source": [
    "def get_size(path, unit='MB'):\n",
    "    size = os.path.getsize(path)\n",
    "    if unit == 'MB':\n",
    "        print(f'Size: {size / (1024 * 1024)} MB')\n",
    "    elif unit == 'GB':\n",
    "        print(f'Size: {size / (1024 * 1024 * 1024)} GB')\n",
    "    else:\n",
    "        print(f'Size: {size} B')\n",
    "\n",
    "path = './data/test/playlist_2010to2022.parquet'\n",
    "\n",
    "get_size(path=path)"
   ]
  },
  {
   "cell_type": "code",
   "execution_count": 50,
   "metadata": {},
   "outputs": [
    {
     "name": "stdout",
     "output_type": "stream",
     "text": [
      "Size: 458.2281322479248 MB\n"
     ]
    }
   ],
   "source": [
    "path = 'data/test2/audio_features.csv'\n",
    "get_size(path, 'MB')"
   ]
  },
  {
   "cell_type": "code",
   "execution_count": 51,
   "metadata": {},
   "outputs": [
    {
     "data": {
      "text/html": [
       "<div><style>\n",
       ".dataframe > thead > tr > th,\n",
       ".dataframe > tbody > tr > td {\n",
       "  text-align: right;\n",
       "  white-space: pre-wrap;\n",
       "}\n",
       "</style>\n",
       "<small>shape: (5, 15)</small><table border=\"1\" class=\"dataframe\"><thead><tr><th>isrc</th><th>acousticness</th><th>danceability</th><th>duration_ms</th><th>energy</th><th>instrumentalness</th><th>key</th><th>liveness</th><th>loudness</th><th>mode</th><th>speechiness</th><th>tempo</th><th>time_signature</th><th>valence</th><th>updated_on</th></tr><tr><td>str</td><td>f64</td><td>f64</td><td>i64</td><td>f64</td><td>f64</td><td>i64</td><td>f64</td><td>f64</td><td>i64</td><td>f64</td><td>i64</td><td>i64</td><td>f64</td><td>str</td></tr></thead><tbody><tr><td>&quot;AD4X65752184&quot;</td><td>0.906</td><td>0.65</td><td>296733</td><td>0.35</td><td>0.775</td><td>3</td><td>0.114</td><td>-11.777</td><td>1</td><td>0.0284</td><td>110</td><td>4</td><td>0.336</td><td>&quot;2023-08-24 09:…</td></tr><tr><td>&quot;AEA0D1991170&quot;</td><td>0.00095</td><td>0.621</td><td>191989</td><td>0.639</td><td>0.82</td><td>7</td><td>0.506</td><td>-9.258</td><td>1</td><td>0.0775</td><td>140</td><td>4</td><td>0.346</td><td>&quot;2023-08-24 09:…</td></tr><tr><td>&quot;AEA0Q2004008&quot;</td><td>0.0312</td><td>0.692</td><td>282904</td><td>0.98</td><td>0.866</td><td>9</td><td>0.0969</td><td>-9.952</td><td>1</td><td>0.0881</td><td>140</td><td>4</td><td>0.225</td><td>&quot;2023-08-24 09:…</td></tr><tr><td>&quot;AEA0Q2004009&quot;</td><td>0.000558</td><td>0.516</td><td>197904</td><td>0.924</td><td>0.434</td><td>5</td><td>0.153</td><td>-13.564</td><td>0</td><td>0.22</td><td>148</td><td>4</td><td>0.204</td><td>&quot;2023-08-24 09:…</td></tr><tr><td>&quot;AEA0Q2004010&quot;</td><td>0.00938</td><td>0.587</td><td>199471</td><td>0.91</td><td>0.804</td><td>0</td><td>0.563</td><td>-10.552</td><td>1</td><td>0.0596</td><td>136</td><td>4</td><td>0.321</td><td>&quot;2023-08-24 09:…</td></tr></tbody></table></div>"
      ],
      "text/plain": [
       "shape: (5, 15)\n",
       "┌────────────┬────────────┬────────────┬────────────┬───┬───────┬────────────┬─────────┬───────────┐\n",
       "│ isrc       ┆ acousticne ┆ danceabili ┆ duration_m ┆ … ┆ tempo ┆ time_signa ┆ valence ┆ updated_o │\n",
       "│ ---        ┆ ss         ┆ ty         ┆ s          ┆   ┆ ---   ┆ ture       ┆ ---     ┆ n         │\n",
       "│ str        ┆ ---        ┆ ---        ┆ ---        ┆   ┆ i64   ┆ ---        ┆ f64     ┆ ---       │\n",
       "│            ┆ f64        ┆ f64        ┆ i64        ┆   ┆       ┆ i64        ┆         ┆ str       │\n",
       "╞════════════╪════════════╪════════════╪════════════╪═══╪═══════╪════════════╪═════════╪═══════════╡\n",
       "│ AD4X657521 ┆ 0.906      ┆ 0.65       ┆ 296733     ┆ … ┆ 110   ┆ 4          ┆ 0.336   ┆ 2023-08-2 │\n",
       "│ 84         ┆            ┆            ┆            ┆   ┆       ┆            ┆         ┆ 4         │\n",
       "│            ┆            ┆            ┆            ┆   ┆       ┆            ┆         ┆ 09:27:00  │\n",
       "│ AEA0D19911 ┆ 0.00095    ┆ 0.621      ┆ 191989     ┆ … ┆ 140   ┆ 4          ┆ 0.346   ┆ 2023-08-2 │\n",
       "│ 70         ┆            ┆            ┆            ┆   ┆       ┆            ┆         ┆ 4         │\n",
       "│            ┆            ┆            ┆            ┆   ┆       ┆            ┆         ┆ 09:30:04  │\n",
       "│ AEA0Q20040 ┆ 0.0312     ┆ 0.692      ┆ 282904     ┆ … ┆ 140   ┆ 4          ┆ 0.225   ┆ 2023-08-2 │\n",
       "│ 08         ┆            ┆            ┆            ┆   ┆       ┆            ┆         ┆ 4         │\n",
       "│            ┆            ┆            ┆            ┆   ┆       ┆            ┆         ┆ 09:30:04  │\n",
       "│ AEA0Q20040 ┆ 0.000558   ┆ 0.516      ┆ 197904     ┆ … ┆ 148   ┆ 4          ┆ 0.204   ┆ 2023-08-2 │\n",
       "│ 09         ┆            ┆            ┆            ┆   ┆       ┆            ┆         ┆ 4         │\n",
       "│            ┆            ┆            ┆            ┆   ┆       ┆            ┆         ┆ 09:30:04  │\n",
       "│ AEA0Q20040 ┆ 0.00938    ┆ 0.587      ┆ 199471     ┆ … ┆ 136   ┆ 4          ┆ 0.321   ┆ 2023-08-2 │\n",
       "│ 10         ┆            ┆            ┆            ┆   ┆       ┆            ┆         ┆ 4         │\n",
       "│            ┆            ┆            ┆            ┆   ┆       ┆            ┆         ┆ 09:30:04  │\n",
       "└────────────┴────────────┴────────────┴────────────┴───┴───────┴────────────┴─────────┴───────────┘"
      ]
     },
     "execution_count": 51,
     "metadata": {},
     "output_type": "execute_result"
    }
   ],
   "source": [
    "df = pl.read_csv(path)\n",
    "df.head()"
   ]
  },
  {
   "cell_type": "code",
   "execution_count": 52,
   "metadata": {},
   "outputs": [
    {
     "data": {
      "text/plain": [
       "pyarrow.Table\n",
       "isrc: string\n",
       "acousticness: double\n",
       "danceability: double\n",
       "duration_ms: int64\n",
       "energy: double\n",
       "instrumentalness: double\n",
       "key: int64\n",
       "liveness: double\n",
       "loudness: double\n",
       "mode: int64\n",
       "speechiness: double\n",
       "tempo: int64\n",
       "time_signature: int64\n",
       "valence: double\n",
       "updated_on: timestamp[s]\n",
       "----\n",
       "isrc: [[\"AD4X65752184\",\"AEA0D1991170\",\"AEA0Q2004008\",\"AEA0Q2004009\",\"AEA0Q2004010\",...,\"DEAR41525750\",\"DEAR41525761\",\"DEAR41525763\",\"DEAR41526078\",\"DEAR41526200\"],[\"DEAR41526214\",\"DEAR41526249\",\"DEAR41526295\",\"DEAR41526357\",\"DEAR41526411\",...,\"DEGD91107503\",\"DEGD91107505\",\"DEGD91107507\",\"DEGD91107508\",\"DEGD91107509\"],...,[\"CH6541664408\",\"CH6542352743\",\"NLRD52200994\",\"ITZB42136724\",\"NLHR22100856\",...,\"DEAR41870698\",\"US8FK1100058\",\"QZ5FN1825826\",\"GBX6A2200154\",\"GBV8E1549001\"],[\"DECH60912164\",\"NLHR22200278\",\"DEAR42267680\",\"AEA2M2348807\",\"CA5KR1510187\",...,\"DEY472375687\",\"DEFR71400907\",\"GB7NR1743402\",\"DEZN82304108\",\"DEY471812426\"]]\n",
       "acousticness: [[0.906,0.00095,0.0312,0.000558,0.00938,...,0.0098,0.14,0.341,0.0176,0.00036],[0.0000239,0.109,0.00294,0.000376,0.0112,...,0.0291,0.00869,0.0015,0.00557,0.042],...,[0.000238,0.00296,0.000176,0.0847,0.000703,...,0.042,0.77,0.000122,0.0000841,0.000515],[0.000751,0.00122,0.000858,0.00959,0.00119,...,0.00984,0.00605,0.0137,0.361,0.0644]]\n",
       "danceability: [[0.65,0.621,0.692,0.516,0.587,...,0.796,0.79,0.713,0.756,0.451],[0.814,0.635,0.59,0.696,0.793,...,0.802,0.802,0.807,0.811,0.81],...,[0.798,0.717,0.806,0.593,0.712,...,0.655,0.234,0.718,0.466,0.87],[0.805,0.722,0.655,0.689,0.795,...,0.792,0.866,0.835,0.758,0.813]]\n",
       "duration_ms: [[296733,191989,282904,197904,199471,...,363158,251265,268000,383759,546372],[440656,289134,328571,275923,185238,...,249600,249600,249600,249600,249600],...,[465504,308576,503226,137143,489449,...,461455,96000,368640,341250,444075],[453760,451720,270542,276124,328000,...,364868,426356,534407,157555,437760]]\n",
       "energy: [[0.35,0.639,0.98,0.924,0.91,...,0.562,0.729,0.693,0.786,0.958],[0.805,0.857,0.78,0.886,0.895,...,0.686,0.678,0.58,0.613,0.803],...,[0.71,0.639,0.636,0.863,0.745,...,0.936,0.39,0.801,0.78,0.569],[0.575,0.783,0.881,0.577,0.835,...,0.708,0.842,0.451,0.706,0.724]]\n",
       "instrumentalness: [[0.775,0.82,0.866,0.434,0.804,...,0.883,0.00306,0.000042,0.805,0.896],[0.885,0.118,0.852,0.118,0.0000576,...,0.939,0.89,0.9,0.914,0.953],...,[0.792,0.728,0.921,0.784,0.903,...,0.955,0.967,0.939,0.917,0.417],[0.934,0.859,0.863,0.801,0.268,...,0.867,0.842,0.926,0.87,0.166]]\n",
       "key: [[3,7,9,5,0,...,11,8,7,4,5],[10,0,0,0,9,...,9,2,10,5,4],...,[0,6,10,4,6,...,4,4,0,11,9],[11,7,11,5,6,...,10,2,11,4,11]]\n",
       "liveness: [[0.114,0.506,0.0969,0.153,0.563,...,0.115,0.102,0.122,0.0679,0.59],[0.0695,0.0995,0.0745,0.0988,0.552,...,0.164,0.121,0.0973,0.0943,0.0832],...,[0.0726,0.114,0.103,0.224,0.0736,...,0.122,0.157,0.117,0.109,0.0278],[0.0897,0.039,0.646,0.0924,0.0873,...,0.066,0.86,0.0899,0.0755,0.175]]\n",
       "loudness: [[-11.777,-9.258,-9.952,-13.564,-10.552,...,-14.127,-6.381,-8.788,-5.619,-6.29],[-15.906,-7.186,-5.805,-6.079,-2.842,...,-9.673,-8.163,-9.117,-9.073,-9.068],...,[-4.955,-9.959,-8.923,-8.317,-10.184,...,-7.131,-23.852,-8.114,-7.661,-10.274],[-11.097,-8.975,-4.835,-9.385,-6.852,...,-10.468,-10.7,-13.879,-7.9,-9.789]]\n",
       "mode: [[1,1,1,0,1,...,0,1,1,0,0],[1,0,1,0,0,...,0,1,1,1,0],...,[1,1,0,0,1,...,1,0,1,0,0],[1,0,0,1,0,...,0,1,1,0,0]]\n",
       "..."
      ]
     },
     "execution_count": 52,
     "metadata": {},
     "output_type": "execute_result"
    }
   ],
   "source": [
    "table = csv.read_csv(path)\n",
    "table"
   ]
  },
  {
   "cell_type": "code",
   "execution_count": 53,
   "metadata": {},
   "outputs": [
    {
     "data": {
      "text/plain": [
       "<pyarrow.lib.ChunkedArray object at 0x7f410c1c74c0>\n",
       "[\n",
       "  [\n",
       "    \"AD4X65752184\",\n",
       "    \"AEA0D1991170\",\n",
       "    \"AEA0Q2004008\",\n",
       "    \"AEA0Q2004009\",\n",
       "    \"AEA0Q2004010\",\n",
       "    ...\n",
       "    \"DEAR41525750\",\n",
       "    \"DEAR41525761\",\n",
       "    \"DEAR41525763\",\n",
       "    \"DEAR41526078\",\n",
       "    \"DEAR41526200\"\n",
       "  ],\n",
       "  [\n",
       "    \"DEAR41526214\",\n",
       "    \"DEAR41526249\",\n",
       "    \"DEAR41526295\",\n",
       "    \"DEAR41526357\",\n",
       "    \"DEAR41526411\",\n",
       "    ...\n",
       "    \"DEGD91107503\",\n",
       "    \"DEGD91107505\",\n",
       "    \"DEGD91107507\",\n",
       "    \"DEGD91107508\",\n",
       "    \"DEGD91107509\"\n",
       "  ],\n",
       "...,\n",
       "  [\n",
       "    \"CH6541664408\",\n",
       "    \"CH6542352743\",\n",
       "    \"NLRD52200994\",\n",
       "    \"ITZB42136724\",\n",
       "    \"NLHR22100856\",\n",
       "    ...\n",
       "    \"DEAR41870698\",\n",
       "    \"US8FK1100058\",\n",
       "    \"QZ5FN1825826\",\n",
       "    \"GBX6A2200154\",\n",
       "    \"GBV8E1549001\"\n",
       "  ],\n",
       "  [\n",
       "    \"DECH60912164\",\n",
       "    \"NLHR22200278\",\n",
       "    \"DEAR42267680\",\n",
       "    \"AEA2M2348807\",\n",
       "    \"CA5KR1510187\",\n",
       "    ...\n",
       "    \"DEY472375687\",\n",
       "    \"DEFR71400907\",\n",
       "    \"GB7NR1743402\",\n",
       "    \"DEZN82304108\",\n",
       "    \"DEY471812426\"\n",
       "  ]\n",
       "]"
      ]
     },
     "execution_count": 53,
     "metadata": {},
     "output_type": "execute_result"
    }
   ],
   "source": [
    "table['isrc']"
   ]
  },
  {
   "cell_type": "code",
   "execution_count": 54,
   "metadata": {},
   "outputs": [
    {
     "data": {
      "text/plain": [
       "4687104"
      ]
     },
     "execution_count": 54,
     "metadata": {},
     "output_type": "execute_result"
    }
   ],
   "source": [
    "table.num_rows"
   ]
  },
  {
   "cell_type": "code",
   "execution_count": 55,
   "metadata": {},
   "outputs": [
    {
     "data": {
      "text/plain": [
       "pyarrow.Table\n",
       "isrc: string\n",
       "acousticness: double\n",
       "danceability: double\n",
       "duration_ms: int64\n",
       "energy: double\n",
       "instrumentalness: double\n",
       "key: int64\n",
       "liveness: double\n",
       "loudness: double\n",
       "mode: int64\n",
       "speechiness: double\n",
       "tempo: int64\n",
       "time_signature: int64\n",
       "valence: double\n",
       "updated_on: timestamp[s]\n",
       "----\n",
       "isrc: [[\"AD4X65752184\",\"AEA0D1991170\"]]\n",
       "acousticness: [[0.906,0.00095]]\n",
       "danceability: [[0.65,0.621]]\n",
       "duration_ms: [[296733,191989]]\n",
       "energy: [[0.35,0.639]]\n",
       "instrumentalness: [[0.775,0.82]]\n",
       "key: [[3,7]]\n",
       "liveness: [[0.114,0.506]]\n",
       "loudness: [[-11.777,-9.258]]\n",
       "mode: [[1,1]]\n",
       "..."
      ]
     },
     "execution_count": 55,
     "metadata": {},
     "output_type": "execute_result"
    }
   ],
   "source": [
    "table.slice(length=2)"
   ]
  },
  {
   "cell_type": "code",
   "execution_count": 56,
   "metadata": {},
   "outputs": [],
   "source": [
    "pq.write_table(table=table, where='./data/test2/audio_features.parquet')"
   ]
  },
  {
   "cell_type": "code",
   "execution_count": 57,
   "metadata": {},
   "outputs": [],
   "source": [
    "path = './data/test2/audio_features.parquet'"
   ]
  },
  {
   "cell_type": "code",
   "execution_count": 58,
   "metadata": {},
   "outputs": [],
   "source": [
    "pf = pq.ParquetFile(path)\n",
    "nrows = pf.metadata.num_rows\n",
    "n_partitions = math.ceil(os.path.getsize(path) / (1024 ** 2) / 50)\n",
    "batch_size = nrows / n_partitions\n",
    "first_n_rows = next(pf.iter_batches(batch_size = batch_size))"
   ]
  },
  {
   "cell_type": "code",
   "execution_count": 59,
   "metadata": {},
   "outputs": [
    {
     "data": {
      "text/plain": [
       "pyarrow.RecordBatch\n",
       "isrc: string\n",
       "acousticness: double\n",
       "danceability: double\n",
       "duration_ms: int64\n",
       "energy: double\n",
       "instrumentalness: double\n",
       "key: int64\n",
       "liveness: double\n",
       "loudness: double\n",
       "mode: int64\n",
       "speechiness: double\n",
       "tempo: int64\n",
       "time_signature: int64\n",
       "valence: double\n",
       "updated_on: timestamp[ms]\n",
       "----\n",
       "isrc: [\"AD4X65752184\",\"AEA0D1991170\",\"AEA0Q2004008\",\"AEA0Q2004009\",\"AEA0Q2004010\",\"AEA0Q2004011\",\"AEA0Q2004012\",\"AEA0Q2004013\",\"AEA0Q2004014\",\"AEA0Q2004015\",...,\"RUA491403963\",\"RUA491403964\",\"RUA491403965\",\"RUA491403966\",\"RUA491403967\",\"RUA491403968\",\"RUA491403976\",\"RUA491404101\",\"RUA491404103\",\"RUA491404144\"]\n",
       "acousticness: [0.906,0.00095,0.0312,0.000558,0.00938,0.00854,0.000251,0.0053,0.0179,0.00125,...,0.655,0.0346,0.00011,0.00298,0.117,0.197,0.0613,0.00265,0.000435,0.0000514]\n",
       "danceability: [0.65,0.621,0.692,0.516,0.587,0.656,0.552,0.713,0.52,0.628,...,0.53,0.727,0.585,0.795,0.634,0.693,0.886,0.85,0.939,0.835]\n",
       "duration_ms: [296733,191989,282904,197904,199471,266736,292779,192784,396851,163995,...,352235,312000,520000,323831,288875,258774,523641,199115,219495,315938]\n",
       "energy: [0.35,0.639,0.98,0.924,0.91,0.834,0.96,0.751,0.848,0.989,...,0.986,0.337,0.989,0.909,0.638,0.531,0.488,0.486,0.799,0.693]\n",
       "instrumentalness: [0.775,0.82,0.866,0.434,0.804,0.865,0.792,0.787,0.944,0.902,...,0.785,0.901,0.754,0.691,0.744,0.895,0.594,0.107,0.858,0.915]\n",
       "key: [3,7,9,5,0,6,5,8,6,7,...,7,10,3,7,7,1,9,9,7,6]\n",
       "liveness: [0.114,0.506,0.0969,0.153,0.563,0.0614,0.102,0.11,0.078,0.178,...,0.273,0.111,0.759,0.141,0.0764,0.0839,0.0963,0.168,0.062,0.151]\n",
       "loudness: [-11.777,-9.258,-9.952,-13.564,-10.552,-12.853,-10.45,-12.335,-9.583,-10.978,...,-7.999,-17.155,-5.403,-10.386,-10.02,-9.519,-8.272,-6.085,-4.004,-1.722]\n",
       "mode: [1,1,1,0,1,0,0,0,0,1,...,1,0,0,1,1,0,0,0,1,0]\n",
       "..."
      ]
     },
     "execution_count": 59,
     "metadata": {},
     "output_type": "execute_result"
    }
   ],
   "source": [
    "first_n_rows"
   ]
  },
  {
   "cell_type": "code",
   "execution_count": 60,
   "metadata": {},
   "outputs": [
    {
     "data": {
      "text/plain": [
       "4687104"
      ]
     },
     "execution_count": 60,
     "metadata": {},
     "output_type": "execute_result"
    }
   ],
   "source": [
    "pf.metadata.num_rows"
   ]
  },
  {
   "cell_type": "code",
   "execution_count": 61,
   "metadata": {},
   "outputs": [
    {
     "data": {
      "text/plain": [
       "<pyarrow._parquet.FileMetaData object at 0x7f410c1c6660>\n",
       "  created_by: parquet-cpp-arrow version 13.0.0\n",
       "  num_columns: 15\n",
       "  num_rows: 4687104\n",
       "  num_row_groups: 5\n",
       "  format_version: 2.6\n",
       "  serialized_size: 10131"
      ]
     },
     "execution_count": 61,
     "metadata": {},
     "output_type": "execute_result"
    }
   ],
   "source": [
    "pf.metadata"
   ]
  },
  {
   "cell_type": "code",
   "execution_count": 31,
   "metadata": {},
   "outputs": [
    {
     "name": "stdout",
     "output_type": "stream",
     "text": [
      "Help on method iter_batches in module pyarrow.parquet.core:\n",
      "\n",
      "iter_batches(batch_size=65536, row_groups=None, columns=None, use_threads=True, use_pandas_metadata=False) method of pyarrow.parquet.core.ParquetFile instance\n",
      "    Read streaming batches from a Parquet file.\n",
      "    \n",
      "    Parameters\n",
      "    ----------\n",
      "    batch_size : int, default 64K\n",
      "        Maximum number of records to yield per batch. Batches may be\n",
      "        smaller if there aren't enough rows in the file.\n",
      "    row_groups : list\n",
      "        Only these row groups will be read from the file.\n",
      "    columns : list\n",
      "        If not None, only these columns will be read from the file. A\n",
      "        column name may be a prefix of a nested field, e.g. 'a' will select\n",
      "        'a.b', 'a.c', and 'a.d.e'.\n",
      "    use_threads : boolean, default True\n",
      "        Perform multi-threaded column reads.\n",
      "    use_pandas_metadata : boolean, default False\n",
      "        If True and file has custom pandas schema metadata, ensure that\n",
      "        index columns are also loaded.\n",
      "    \n",
      "    Yields\n",
      "    ------\n",
      "    pyarrow.RecordBatch\n",
      "        Contents of each batch as a record batch\n",
      "    \n",
      "    Examples\n",
      "    --------\n",
      "    Generate an example Parquet file:\n",
      "    \n",
      "    >>> import pyarrow as pa\n",
      "    >>> table = pa.table({'n_legs': [2, 2, 4, 4, 5, 100],\n",
      "    ...                   'animal': [\"Flamingo\", \"Parrot\", \"Dog\", \"Horse\",\n",
      "    ...                              \"Brittle stars\", \"Centipede\"]})\n",
      "    >>> import pyarrow.parquet as pq\n",
      "    >>> pq.write_table(table, 'example.parquet')\n",
      "    >>> parquet_file = pq.ParquetFile('example.parquet')\n",
      "    >>> for i in parquet_file.iter_batches():\n",
      "    ...     print(\"RecordBatch\")\n",
      "    ...     print(i.to_pandas())\n",
      "    ...\n",
      "    RecordBatch\n",
      "       n_legs         animal\n",
      "    0       2       Flamingo\n",
      "    1       2         Parrot\n",
      "    2       4            Dog\n",
      "    3       4          Horse\n",
      "    4       5  Brittle stars\n",
      "    5     100      Centipede\n",
      "\n"
     ]
    }
   ],
   "source": [
    "help(pf.iter_batches)"
   ]
  },
  {
   "cell_type": "markdown",
   "metadata": {},
   "source": [
    "Get metadata associated with a field"
   ]
  },
  {
   "cell_type": "code",
   "execution_count": 31,
   "metadata": {},
   "outputs": [],
   "source": [
    "pq.read_table('./data/test2/audio_features.parquet').schema.field('energy').metadata"
   ]
  },
  {
   "cell_type": "markdown",
   "metadata": {},
   "source": [
    "Using `yield` in iterator function to avoid returning entire dataframe"
   ]
  },
  {
   "cell_type": "code",
   "execution_count": 62,
   "metadata": {},
   "outputs": [
    {
     "data": {
      "text/html": [
       "<div><style>\n",
       ".dataframe > thead > tr > th,\n",
       ".dataframe > tbody > tr > td {\n",
       "  text-align: right;\n",
       "  white-space: pre-wrap;\n",
       "}\n",
       "</style>\n",
       "<small>shape: (5, 15)</small><table border=\"1\" class=\"dataframe\"><thead><tr><th>isrc</th><th>acousticness</th><th>danceability</th><th>duration_ms</th><th>energy</th><th>instrumentalness</th><th>key</th><th>liveness</th><th>loudness</th><th>mode</th><th>speechiness</th><th>tempo</th><th>time_signature</th><th>valence</th><th>updated_on</th></tr><tr><td>str</td><td>f64</td><td>f64</td><td>i64</td><td>f64</td><td>f64</td><td>i64</td><td>f64</td><td>f64</td><td>i64</td><td>f64</td><td>i64</td><td>i64</td><td>f64</td><td>str</td></tr></thead><tbody><tr><td>&quot;AD4X65752184&quot;</td><td>0.906</td><td>0.65</td><td>296733</td><td>0.35</td><td>0.775</td><td>3</td><td>0.114</td><td>-11.777</td><td>1</td><td>0.0284</td><td>110</td><td>4</td><td>0.336</td><td>&quot;2023-08-24 09:…</td></tr><tr><td>&quot;AEA0D1991170&quot;</td><td>0.00095</td><td>0.621</td><td>191989</td><td>0.639</td><td>0.82</td><td>7</td><td>0.506</td><td>-9.258</td><td>1</td><td>0.0775</td><td>140</td><td>4</td><td>0.346</td><td>&quot;2023-08-24 09:…</td></tr><tr><td>&quot;AEA0Q2004008&quot;</td><td>0.0312</td><td>0.692</td><td>282904</td><td>0.98</td><td>0.866</td><td>9</td><td>0.0969</td><td>-9.952</td><td>1</td><td>0.0881</td><td>140</td><td>4</td><td>0.225</td><td>&quot;2023-08-24 09:…</td></tr><tr><td>&quot;AEA0Q2004009&quot;</td><td>0.000558</td><td>0.516</td><td>197904</td><td>0.924</td><td>0.434</td><td>5</td><td>0.153</td><td>-13.564</td><td>0</td><td>0.22</td><td>148</td><td>4</td><td>0.204</td><td>&quot;2023-08-24 09:…</td></tr><tr><td>&quot;AEA0Q2004010&quot;</td><td>0.00938</td><td>0.587</td><td>199471</td><td>0.91</td><td>0.804</td><td>0</td><td>0.563</td><td>-10.552</td><td>1</td><td>0.0596</td><td>136</td><td>4</td><td>0.321</td><td>&quot;2023-08-24 09:…</td></tr></tbody></table></div>"
      ],
      "text/plain": [
       "shape: (5, 15)\n",
       "┌────────────┬────────────┬────────────┬────────────┬───┬───────┬────────────┬─────────┬───────────┐\n",
       "│ isrc       ┆ acousticne ┆ danceabili ┆ duration_m ┆ … ┆ tempo ┆ time_signa ┆ valence ┆ updated_o │\n",
       "│ ---        ┆ ss         ┆ ty         ┆ s          ┆   ┆ ---   ┆ ture       ┆ ---     ┆ n         │\n",
       "│ str        ┆ ---        ┆ ---        ┆ ---        ┆   ┆ i64   ┆ ---        ┆ f64     ┆ ---       │\n",
       "│            ┆ f64        ┆ f64        ┆ i64        ┆   ┆       ┆ i64        ┆         ┆ str       │\n",
       "╞════════════╪════════════╪════════════╪════════════╪═══╪═══════╪════════════╪═════════╪═══════════╡\n",
       "│ AD4X657521 ┆ 0.906      ┆ 0.65       ┆ 296733     ┆ … ┆ 110   ┆ 4          ┆ 0.336   ┆ 2023-08-2 │\n",
       "│ 84         ┆            ┆            ┆            ┆   ┆       ┆            ┆         ┆ 4         │\n",
       "│            ┆            ┆            ┆            ┆   ┆       ┆            ┆         ┆ 09:27:00  │\n",
       "│ AEA0D19911 ┆ 0.00095    ┆ 0.621      ┆ 191989     ┆ … ┆ 140   ┆ 4          ┆ 0.346   ┆ 2023-08-2 │\n",
       "│ 70         ┆            ┆            ┆            ┆   ┆       ┆            ┆         ┆ 4         │\n",
       "│            ┆            ┆            ┆            ┆   ┆       ┆            ┆         ┆ 09:30:04  │\n",
       "│ AEA0Q20040 ┆ 0.0312     ┆ 0.692      ┆ 282904     ┆ … ┆ 140   ┆ 4          ┆ 0.225   ┆ 2023-08-2 │\n",
       "│ 08         ┆            ┆            ┆            ┆   ┆       ┆            ┆         ┆ 4         │\n",
       "│            ┆            ┆            ┆            ┆   ┆       ┆            ┆         ┆ 09:30:04  │\n",
       "│ AEA0Q20040 ┆ 0.000558   ┆ 0.516      ┆ 197904     ┆ … ┆ 148   ┆ 4          ┆ 0.204   ┆ 2023-08-2 │\n",
       "│ 09         ┆            ┆            ┆            ┆   ┆       ┆            ┆         ┆ 4         │\n",
       "│            ┆            ┆            ┆            ┆   ┆       ┆            ┆         ┆ 09:30:04  │\n",
       "│ AEA0Q20040 ┆ 0.00938    ┆ 0.587      ┆ 199471     ┆ … ┆ 136   ┆ 4          ┆ 0.321   ┆ 2023-08-2 │\n",
       "│ 10         ┆            ┆            ┆            ┆   ┆       ┆            ┆         ┆ 4         │\n",
       "│            ┆            ┆            ┆            ┆   ┆       ┆            ┆         ┆ 09:30:04  │\n",
       "└────────────┴────────────┴────────────┴────────────┴───┴───────┴────────────┴─────────┴───────────┘"
      ]
     },
     "execution_count": 62,
     "metadata": {},
     "output_type": "execute_result"
    }
   ],
   "source": [
    "import polars as pl\n",
    "\n",
    "df = pl.read_csv('data/test2/audio_features.csv', n_rows=100)\n",
    "df.head()"
   ]
  },
  {
   "cell_type": "code",
   "execution_count": 23,
   "metadata": {},
   "outputs": [],
   "source": [
    "def data_iterator():\n",
    "    for i in range(0, 10):\n",
    "        chunk = pl.read_csv('data/test2/audio_features.csv', n_rows=10, row_count_offset=10*i)\n",
    "        yield chunk"
   ]
  },
  {
   "cell_type": "code",
   "execution_count": 25,
   "metadata": {},
   "outputs": [
    {
     "name": "stdout",
     "output_type": "stream",
     "text": [
      "shape: (10, 15)\n",
      "┌────────────┬────────────┬────────────┬────────────┬───┬───────┬────────────┬─────────┬───────────┐\n",
      "│ isrc       ┆ acousticne ┆ danceabili ┆ duration_m ┆ … ┆ tempo ┆ time_signa ┆ valence ┆ updated_o │\n",
      "│ ---        ┆ ss         ┆ ty         ┆ s          ┆   ┆ ---   ┆ ture       ┆ ---     ┆ n         │\n",
      "│ str        ┆ ---        ┆ ---        ┆ ---        ┆   ┆ i64   ┆ ---        ┆ f64     ┆ ---       │\n",
      "│            ┆ f64        ┆ f64        ┆ i64        ┆   ┆       ┆ i64        ┆         ┆ str       │\n",
      "╞════════════╪════════════╪════════════╪════════════╪═══╪═══════╪════════════╪═════════╪═══════════╡\n",
      "│ AD4X657521 ┆ 0.906      ┆ 0.65       ┆ 296733     ┆ … ┆ 110   ┆ 4          ┆ 0.336   ┆ 2023-08-2 │\n",
      "│ 84         ┆            ┆            ┆            ┆   ┆       ┆            ┆         ┆ 4         │\n",
      "│            ┆            ┆            ┆            ┆   ┆       ┆            ┆         ┆ 09:27:00  │\n",
      "│ AEA0D19911 ┆ 0.00095    ┆ 0.621      ┆ 191989     ┆ … ┆ 140   ┆ 4          ┆ 0.346   ┆ 2023-08-2 │\n",
      "│ 70         ┆            ┆            ┆            ┆   ┆       ┆            ┆         ┆ 4         │\n",
      "│            ┆            ┆            ┆            ┆   ┆       ┆            ┆         ┆ 09:30:04  │\n",
      "│ AEA0Q20040 ┆ 0.0312     ┆ 0.692      ┆ 282904     ┆ … ┆ 140   ┆ 4          ┆ 0.225   ┆ 2023-08-2 │\n",
      "│ 08         ┆            ┆            ┆            ┆   ┆       ┆            ┆         ┆ 4         │\n",
      "│            ┆            ┆            ┆            ┆   ┆       ┆            ┆         ┆ 09:30:04  │\n",
      "│ AEA0Q20040 ┆ 0.000558   ┆ 0.516      ┆ 197904     ┆ … ┆ 148   ┆ 4          ┆ 0.204   ┆ 2023-08-2 │\n",
      "│ 09         ┆            ┆            ┆            ┆   ┆       ┆            ┆         ┆ 4         │\n",
      "│            ┆            ┆            ┆            ┆   ┆       ┆            ┆         ┆ 09:30:04  │\n",
      "│ …          ┆ …          ┆ …          ┆ …          ┆ … ┆ …     ┆ …          ┆ …       ┆ …         │\n",
      "│ AEA0Q20040 ┆ 0.000251   ┆ 0.552      ┆ 292779     ┆ … ┆ 132   ┆ 4          ┆ 0.407   ┆ 2023-08-2 │\n",
      "│ 12         ┆            ┆            ┆            ┆   ┆       ┆            ┆         ┆ 4         │\n",
      "│            ┆            ┆            ┆            ┆   ┆       ┆            ┆         ┆ 09:30:04  │\n",
      "│ AEA0Q20040 ┆ 0.0053     ┆ 0.713      ┆ 192784     ┆ … ┆ 132   ┆ 4          ┆ 0.783   ┆ 2023-08-2 │\n",
      "│ 13         ┆            ┆            ┆            ┆   ┆       ┆            ┆         ┆ 4         │\n",
      "│            ┆            ┆            ┆            ┆   ┆       ┆            ┆         ┆ 09:30:04  │\n",
      "│ AEA0Q20040 ┆ 0.0179     ┆ 0.52       ┆ 396851     ┆ … ┆ 140   ┆ 4          ┆ 0.616   ┆ 2023-08-2 │\n",
      "│ 14         ┆            ┆            ┆            ┆   ┆       ┆            ┆         ┆ 4         │\n",
      "│            ┆            ┆            ┆            ┆   ┆       ┆            ┆         ┆ 09:30:04  │\n",
      "│ AEA0Q20040 ┆ 0.00125    ┆ 0.628      ┆ 163995     ┆ … ┆ 142   ┆ 4          ┆ 0.428   ┆ 2023-08-2 │\n",
      "│ 15         ┆            ┆            ┆            ┆   ┆       ┆            ┆         ┆ 4         │\n",
      "│            ┆            ┆            ┆            ┆   ┆       ┆            ┆         ┆ 09:30:04  │\n",
      "└────────────┴────────────┴────────────┴────────────┴───┴───────┴────────────┴─────────┴───────────┘\n",
      "shape: (10, 15)\n",
      "┌────────────┬────────────┬────────────┬────────────┬───┬───────┬────────────┬─────────┬───────────┐\n",
      "│ isrc       ┆ acousticne ┆ danceabili ┆ duration_m ┆ … ┆ tempo ┆ time_signa ┆ valence ┆ updated_o │\n",
      "│ ---        ┆ ss         ┆ ty         ┆ s          ┆   ┆ ---   ┆ ture       ┆ ---     ┆ n         │\n",
      "│ str        ┆ ---        ┆ ---        ┆ ---        ┆   ┆ i64   ┆ ---        ┆ f64     ┆ ---       │\n",
      "│            ┆ f64        ┆ f64        ┆ i64        ┆   ┆       ┆ i64        ┆         ┆ str       │\n",
      "╞════════════╪════════════╪════════════╪════════════╪═══╪═══════╪════════════╪═════════╪═══════════╡\n",
      "│ AD4X657521 ┆ 0.906      ┆ 0.65       ┆ 296733     ┆ … ┆ 110   ┆ 4          ┆ 0.336   ┆ 2023-08-2 │\n",
      "│ 84         ┆            ┆            ┆            ┆   ┆       ┆            ┆         ┆ 4         │\n",
      "│            ┆            ┆            ┆            ┆   ┆       ┆            ┆         ┆ 09:27:00  │\n",
      "│ AEA0D19911 ┆ 0.00095    ┆ 0.621      ┆ 191989     ┆ … ┆ 140   ┆ 4          ┆ 0.346   ┆ 2023-08-2 │\n",
      "│ 70         ┆            ┆            ┆            ┆   ┆       ┆            ┆         ┆ 4         │\n",
      "│            ┆            ┆            ┆            ┆   ┆       ┆            ┆         ┆ 09:30:04  │\n",
      "│ AEA0Q20040 ┆ 0.0312     ┆ 0.692      ┆ 282904     ┆ … ┆ 140   ┆ 4          ┆ 0.225   ┆ 2023-08-2 │\n",
      "│ 08         ┆            ┆            ┆            ┆   ┆       ┆            ┆         ┆ 4         │\n",
      "│            ┆            ┆            ┆            ┆   ┆       ┆            ┆         ┆ 09:30:04  │\n",
      "│ AEA0Q20040 ┆ 0.000558   ┆ 0.516      ┆ 197904     ┆ … ┆ 148   ┆ 4          ┆ 0.204   ┆ 2023-08-2 │\n",
      "│ 09         ┆            ┆            ┆            ┆   ┆       ┆            ┆         ┆ 4         │\n",
      "│            ┆            ┆            ┆            ┆   ┆       ┆            ┆         ┆ 09:30:04  │\n",
      "│ …          ┆ …          ┆ …          ┆ …          ┆ … ┆ …     ┆ …          ┆ …       ┆ …         │\n",
      "│ AEA0Q20040 ┆ 0.000251   ┆ 0.552      ┆ 292779     ┆ … ┆ 132   ┆ 4          ┆ 0.407   ┆ 2023-08-2 │\n",
      "│ 12         ┆            ┆            ┆            ┆   ┆       ┆            ┆         ┆ 4         │\n",
      "│            ┆            ┆            ┆            ┆   ┆       ┆            ┆         ┆ 09:30:04  │\n",
      "│ AEA0Q20040 ┆ 0.0053     ┆ 0.713      ┆ 192784     ┆ … ┆ 132   ┆ 4          ┆ 0.783   ┆ 2023-08-2 │\n",
      "│ 13         ┆            ┆            ┆            ┆   ┆       ┆            ┆         ┆ 4         │\n",
      "│            ┆            ┆            ┆            ┆   ┆       ┆            ┆         ┆ 09:30:04  │\n",
      "│ AEA0Q20040 ┆ 0.0179     ┆ 0.52       ┆ 396851     ┆ … ┆ 140   ┆ 4          ┆ 0.616   ┆ 2023-08-2 │\n",
      "│ 14         ┆            ┆            ┆            ┆   ┆       ┆            ┆         ┆ 4         │\n",
      "│            ┆            ┆            ┆            ┆   ┆       ┆            ┆         ┆ 09:30:04  │\n",
      "│ AEA0Q20040 ┆ 0.00125    ┆ 0.628      ┆ 163995     ┆ … ┆ 142   ┆ 4          ┆ 0.428   ┆ 2023-08-2 │\n",
      "│ 15         ┆            ┆            ┆            ┆   ┆       ┆            ┆         ┆ 4         │\n",
      "│            ┆            ┆            ┆            ┆   ┆       ┆            ┆         ┆ 09:30:04  │\n",
      "└────────────┴────────────┴────────────┴────────────┴───┴───────┴────────────┴─────────┴───────────┘\n",
      "shape: (10, 15)\n",
      "┌────────────┬────────────┬────────────┬────────────┬───┬───────┬────────────┬─────────┬───────────┐\n",
      "│ isrc       ┆ acousticne ┆ danceabili ┆ duration_m ┆ … ┆ tempo ┆ time_signa ┆ valence ┆ updated_o │\n",
      "│ ---        ┆ ss         ┆ ty         ┆ s          ┆   ┆ ---   ┆ ture       ┆ ---     ┆ n         │\n",
      "│ str        ┆ ---        ┆ ---        ┆ ---        ┆   ┆ i64   ┆ ---        ┆ f64     ┆ ---       │\n",
      "│            ┆ f64        ┆ f64        ┆ i64        ┆   ┆       ┆ i64        ┆         ┆ str       │\n",
      "╞════════════╪════════════╪════════════╪════════════╪═══╪═══════╪════════════╪═════════╪═══════════╡\n",
      "│ AD4X657521 ┆ 0.906      ┆ 0.65       ┆ 296733     ┆ … ┆ 110   ┆ 4          ┆ 0.336   ┆ 2023-08-2 │\n",
      "│ 84         ┆            ┆            ┆            ┆   ┆       ┆            ┆         ┆ 4         │\n",
      "│            ┆            ┆            ┆            ┆   ┆       ┆            ┆         ┆ 09:27:00  │\n",
      "│ AEA0D19911 ┆ 0.00095    ┆ 0.621      ┆ 191989     ┆ … ┆ 140   ┆ 4          ┆ 0.346   ┆ 2023-08-2 │\n",
      "│ 70         ┆            ┆            ┆            ┆   ┆       ┆            ┆         ┆ 4         │\n",
      "│            ┆            ┆            ┆            ┆   ┆       ┆            ┆         ┆ 09:30:04  │\n",
      "│ AEA0Q20040 ┆ 0.0312     ┆ 0.692      ┆ 282904     ┆ … ┆ 140   ┆ 4          ┆ 0.225   ┆ 2023-08-2 │\n",
      "│ 08         ┆            ┆            ┆            ┆   ┆       ┆            ┆         ┆ 4         │\n",
      "│            ┆            ┆            ┆            ┆   ┆       ┆            ┆         ┆ 09:30:04  │\n",
      "│ AEA0Q20040 ┆ 0.000558   ┆ 0.516      ┆ 197904     ┆ … ┆ 148   ┆ 4          ┆ 0.204   ┆ 2023-08-2 │\n",
      "│ 09         ┆            ┆            ┆            ┆   ┆       ┆            ┆         ┆ 4         │\n",
      "│            ┆            ┆            ┆            ┆   ┆       ┆            ┆         ┆ 09:30:04  │\n",
      "│ …          ┆ …          ┆ …          ┆ …          ┆ … ┆ …     ┆ …          ┆ …       ┆ …         │\n",
      "│ AEA0Q20040 ┆ 0.000251   ┆ 0.552      ┆ 292779     ┆ … ┆ 132   ┆ 4          ┆ 0.407   ┆ 2023-08-2 │\n",
      "│ 12         ┆            ┆            ┆            ┆   ┆       ┆            ┆         ┆ 4         │\n",
      "│            ┆            ┆            ┆            ┆   ┆       ┆            ┆         ┆ 09:30:04  │\n",
      "│ AEA0Q20040 ┆ 0.0053     ┆ 0.713      ┆ 192784     ┆ … ┆ 132   ┆ 4          ┆ 0.783   ┆ 2023-08-2 │\n",
      "│ 13         ┆            ┆            ┆            ┆   ┆       ┆            ┆         ┆ 4         │\n",
      "│            ┆            ┆            ┆            ┆   ┆       ┆            ┆         ┆ 09:30:04  │\n",
      "│ AEA0Q20040 ┆ 0.0179     ┆ 0.52       ┆ 396851     ┆ … ┆ 140   ┆ 4          ┆ 0.616   ┆ 2023-08-2 │\n",
      "│ 14         ┆            ┆            ┆            ┆   ┆       ┆            ┆         ┆ 4         │\n",
      "│            ┆            ┆            ┆            ┆   ┆       ┆            ┆         ┆ 09:30:04  │\n",
      "│ AEA0Q20040 ┆ 0.00125    ┆ 0.628      ┆ 163995     ┆ … ┆ 142   ┆ 4          ┆ 0.428   ┆ 2023-08-2 │\n",
      "│ 15         ┆            ┆            ┆            ┆   ┆       ┆            ┆         ┆ 4         │\n",
      "│            ┆            ┆            ┆            ┆   ┆       ┆            ┆         ┆ 09:30:04  │\n",
      "└────────────┴────────────┴────────────┴────────────┴───┴───────┴────────────┴─────────┴───────────┘\n",
      "shape: (10, 15)\n",
      "┌────────────┬────────────┬────────────┬────────────┬───┬───────┬────────────┬─────────┬───────────┐\n",
      "│ isrc       ┆ acousticne ┆ danceabili ┆ duration_m ┆ … ┆ tempo ┆ time_signa ┆ valence ┆ updated_o │\n",
      "│ ---        ┆ ss         ┆ ty         ┆ s          ┆   ┆ ---   ┆ ture       ┆ ---     ┆ n         │\n",
      "│ str        ┆ ---        ┆ ---        ┆ ---        ┆   ┆ i64   ┆ ---        ┆ f64     ┆ ---       │\n",
      "│            ┆ f64        ┆ f64        ┆ i64        ┆   ┆       ┆ i64        ┆         ┆ str       │\n",
      "╞════════════╪════════════╪════════════╪════════════╪═══╪═══════╪════════════╪═════════╪═══════════╡\n",
      "│ AD4X657521 ┆ 0.906      ┆ 0.65       ┆ 296733     ┆ … ┆ 110   ┆ 4          ┆ 0.336   ┆ 2023-08-2 │\n",
      "│ 84         ┆            ┆            ┆            ┆   ┆       ┆            ┆         ┆ 4         │\n",
      "│            ┆            ┆            ┆            ┆   ┆       ┆            ┆         ┆ 09:27:00  │\n",
      "│ AEA0D19911 ┆ 0.00095    ┆ 0.621      ┆ 191989     ┆ … ┆ 140   ┆ 4          ┆ 0.346   ┆ 2023-08-2 │\n",
      "│ 70         ┆            ┆            ┆            ┆   ┆       ┆            ┆         ┆ 4         │\n",
      "│            ┆            ┆            ┆            ┆   ┆       ┆            ┆         ┆ 09:30:04  │\n",
      "│ AEA0Q20040 ┆ 0.0312     ┆ 0.692      ┆ 282904     ┆ … ┆ 140   ┆ 4          ┆ 0.225   ┆ 2023-08-2 │\n",
      "│ 08         ┆            ┆            ┆            ┆   ┆       ┆            ┆         ┆ 4         │\n",
      "│            ┆            ┆            ┆            ┆   ┆       ┆            ┆         ┆ 09:30:04  │\n",
      "│ AEA0Q20040 ┆ 0.000558   ┆ 0.516      ┆ 197904     ┆ … ┆ 148   ┆ 4          ┆ 0.204   ┆ 2023-08-2 │\n",
      "│ 09         ┆            ┆            ┆            ┆   ┆       ┆            ┆         ┆ 4         │\n",
      "│            ┆            ┆            ┆            ┆   ┆       ┆            ┆         ┆ 09:30:04  │\n",
      "│ …          ┆ …          ┆ …          ┆ …          ┆ … ┆ …     ┆ …          ┆ …       ┆ …         │\n",
      "│ AEA0Q20040 ┆ 0.000251   ┆ 0.552      ┆ 292779     ┆ … ┆ 132   ┆ 4          ┆ 0.407   ┆ 2023-08-2 │\n",
      "│ 12         ┆            ┆            ┆            ┆   ┆       ┆            ┆         ┆ 4         │\n",
      "│            ┆            ┆            ┆            ┆   ┆       ┆            ┆         ┆ 09:30:04  │\n",
      "│ AEA0Q20040 ┆ 0.0053     ┆ 0.713      ┆ 192784     ┆ … ┆ 132   ┆ 4          ┆ 0.783   ┆ 2023-08-2 │\n",
      "│ 13         ┆            ┆            ┆            ┆   ┆       ┆            ┆         ┆ 4         │\n",
      "│            ┆            ┆            ┆            ┆   ┆       ┆            ┆         ┆ 09:30:04  │\n",
      "│ AEA0Q20040 ┆ 0.0179     ┆ 0.52       ┆ 396851     ┆ … ┆ 140   ┆ 4          ┆ 0.616   ┆ 2023-08-2 │\n",
      "│ 14         ┆            ┆            ┆            ┆   ┆       ┆            ┆         ┆ 4         │\n",
      "│            ┆            ┆            ┆            ┆   ┆       ┆            ┆         ┆ 09:30:04  │\n",
      "│ AEA0Q20040 ┆ 0.00125    ┆ 0.628      ┆ 163995     ┆ … ┆ 142   ┆ 4          ┆ 0.428   ┆ 2023-08-2 │\n",
      "│ 15         ┆            ┆            ┆            ┆   ┆       ┆            ┆         ┆ 4         │\n",
      "│            ┆            ┆            ┆            ┆   ┆       ┆            ┆         ┆ 09:30:04  │\n",
      "└────────────┴────────────┴────────────┴────────────┴───┴───────┴────────────┴─────────┴───────────┘\n",
      "shape: (10, 15)\n",
      "┌────────────┬────────────┬────────────┬────────────┬───┬───────┬────────────┬─────────┬───────────┐\n",
      "│ isrc       ┆ acousticne ┆ danceabili ┆ duration_m ┆ … ┆ tempo ┆ time_signa ┆ valence ┆ updated_o │\n",
      "│ ---        ┆ ss         ┆ ty         ┆ s          ┆   ┆ ---   ┆ ture       ┆ ---     ┆ n         │\n",
      "│ str        ┆ ---        ┆ ---        ┆ ---        ┆   ┆ i64   ┆ ---        ┆ f64     ┆ ---       │\n",
      "│            ┆ f64        ┆ f64        ┆ i64        ┆   ┆       ┆ i64        ┆         ┆ str       │\n",
      "╞════════════╪════════════╪════════════╪════════════╪═══╪═══════╪════════════╪═════════╪═══════════╡\n",
      "│ AD4X657521 ┆ 0.906      ┆ 0.65       ┆ 296733     ┆ … ┆ 110   ┆ 4          ┆ 0.336   ┆ 2023-08-2 │\n",
      "│ 84         ┆            ┆            ┆            ┆   ┆       ┆            ┆         ┆ 4         │\n",
      "│            ┆            ┆            ┆            ┆   ┆       ┆            ┆         ┆ 09:27:00  │\n",
      "│ AEA0D19911 ┆ 0.00095    ┆ 0.621      ┆ 191989     ┆ … ┆ 140   ┆ 4          ┆ 0.346   ┆ 2023-08-2 │\n",
      "│ 70         ┆            ┆            ┆            ┆   ┆       ┆            ┆         ┆ 4         │\n",
      "│            ┆            ┆            ┆            ┆   ┆       ┆            ┆         ┆ 09:30:04  │\n",
      "│ AEA0Q20040 ┆ 0.0312     ┆ 0.692      ┆ 282904     ┆ … ┆ 140   ┆ 4          ┆ 0.225   ┆ 2023-08-2 │\n",
      "│ 08         ┆            ┆            ┆            ┆   ┆       ┆            ┆         ┆ 4         │\n",
      "│            ┆            ┆            ┆            ┆   ┆       ┆            ┆         ┆ 09:30:04  │\n",
      "│ AEA0Q20040 ┆ 0.000558   ┆ 0.516      ┆ 197904     ┆ … ┆ 148   ┆ 4          ┆ 0.204   ┆ 2023-08-2 │\n",
      "│ 09         ┆            ┆            ┆            ┆   ┆       ┆            ┆         ┆ 4         │\n",
      "│            ┆            ┆            ┆            ┆   ┆       ┆            ┆         ┆ 09:30:04  │\n",
      "│ …          ┆ …          ┆ …          ┆ …          ┆ … ┆ …     ┆ …          ┆ …       ┆ …         │\n",
      "│ AEA0Q20040 ┆ 0.000251   ┆ 0.552      ┆ 292779     ┆ … ┆ 132   ┆ 4          ┆ 0.407   ┆ 2023-08-2 │\n",
      "│ 12         ┆            ┆            ┆            ┆   ┆       ┆            ┆         ┆ 4         │\n",
      "│            ┆            ┆            ┆            ┆   ┆       ┆            ┆         ┆ 09:30:04  │\n",
      "│ AEA0Q20040 ┆ 0.0053     ┆ 0.713      ┆ 192784     ┆ … ┆ 132   ┆ 4          ┆ 0.783   ┆ 2023-08-2 │\n",
      "│ 13         ┆            ┆            ┆            ┆   ┆       ┆            ┆         ┆ 4         │\n",
      "│            ┆            ┆            ┆            ┆   ┆       ┆            ┆         ┆ 09:30:04  │\n",
      "│ AEA0Q20040 ┆ 0.0179     ┆ 0.52       ┆ 396851     ┆ … ┆ 140   ┆ 4          ┆ 0.616   ┆ 2023-08-2 │\n",
      "│ 14         ┆            ┆            ┆            ┆   ┆       ┆            ┆         ┆ 4         │\n",
      "│            ┆            ┆            ┆            ┆   ┆       ┆            ┆         ┆ 09:30:04  │\n",
      "│ AEA0Q20040 ┆ 0.00125    ┆ 0.628      ┆ 163995     ┆ … ┆ 142   ┆ 4          ┆ 0.428   ┆ 2023-08-2 │\n",
      "│ 15         ┆            ┆            ┆            ┆   ┆       ┆            ┆         ┆ 4         │\n",
      "│            ┆            ┆            ┆            ┆   ┆       ┆            ┆         ┆ 09:30:04  │\n",
      "└────────────┴────────────┴────────────┴────────────┴───┴───────┴────────────┴─────────┴───────────┘\n",
      "shape: (10, 15)\n",
      "┌────────────┬────────────┬────────────┬────────────┬───┬───────┬────────────┬─────────┬───────────┐\n",
      "│ isrc       ┆ acousticne ┆ danceabili ┆ duration_m ┆ … ┆ tempo ┆ time_signa ┆ valence ┆ updated_o │\n",
      "│ ---        ┆ ss         ┆ ty         ┆ s          ┆   ┆ ---   ┆ ture       ┆ ---     ┆ n         │\n",
      "│ str        ┆ ---        ┆ ---        ┆ ---        ┆   ┆ i64   ┆ ---        ┆ f64     ┆ ---       │\n",
      "│            ┆ f64        ┆ f64        ┆ i64        ┆   ┆       ┆ i64        ┆         ┆ str       │\n",
      "╞════════════╪════════════╪════════════╪════════════╪═══╪═══════╪════════════╪═════════╪═══════════╡\n",
      "│ AD4X657521 ┆ 0.906      ┆ 0.65       ┆ 296733     ┆ … ┆ 110   ┆ 4          ┆ 0.336   ┆ 2023-08-2 │\n",
      "│ 84         ┆            ┆            ┆            ┆   ┆       ┆            ┆         ┆ 4         │\n",
      "│            ┆            ┆            ┆            ┆   ┆       ┆            ┆         ┆ 09:27:00  │\n",
      "│ AEA0D19911 ┆ 0.00095    ┆ 0.621      ┆ 191989     ┆ … ┆ 140   ┆ 4          ┆ 0.346   ┆ 2023-08-2 │\n",
      "│ 70         ┆            ┆            ┆            ┆   ┆       ┆            ┆         ┆ 4         │\n",
      "│            ┆            ┆            ┆            ┆   ┆       ┆            ┆         ┆ 09:30:04  │\n",
      "│ AEA0Q20040 ┆ 0.0312     ┆ 0.692      ┆ 282904     ┆ … ┆ 140   ┆ 4          ┆ 0.225   ┆ 2023-08-2 │\n",
      "│ 08         ┆            ┆            ┆            ┆   ┆       ┆            ┆         ┆ 4         │\n",
      "│            ┆            ┆            ┆            ┆   ┆       ┆            ┆         ┆ 09:30:04  │\n",
      "│ AEA0Q20040 ┆ 0.000558   ┆ 0.516      ┆ 197904     ┆ … ┆ 148   ┆ 4          ┆ 0.204   ┆ 2023-08-2 │\n",
      "│ 09         ┆            ┆            ┆            ┆   ┆       ┆            ┆         ┆ 4         │\n",
      "│            ┆            ┆            ┆            ┆   ┆       ┆            ┆         ┆ 09:30:04  │\n",
      "│ …          ┆ …          ┆ …          ┆ …          ┆ … ┆ …     ┆ …          ┆ …       ┆ …         │\n",
      "│ AEA0Q20040 ┆ 0.000251   ┆ 0.552      ┆ 292779     ┆ … ┆ 132   ┆ 4          ┆ 0.407   ┆ 2023-08-2 │\n",
      "│ 12         ┆            ┆            ┆            ┆   ┆       ┆            ┆         ┆ 4         │\n",
      "│            ┆            ┆            ┆            ┆   ┆       ┆            ┆         ┆ 09:30:04  │\n",
      "│ AEA0Q20040 ┆ 0.0053     ┆ 0.713      ┆ 192784     ┆ … ┆ 132   ┆ 4          ┆ 0.783   ┆ 2023-08-2 │\n",
      "│ 13         ┆            ┆            ┆            ┆   ┆       ┆            ┆         ┆ 4         │\n",
      "│            ┆            ┆            ┆            ┆   ┆       ┆            ┆         ┆ 09:30:04  │\n",
      "│ AEA0Q20040 ┆ 0.0179     ┆ 0.52       ┆ 396851     ┆ … ┆ 140   ┆ 4          ┆ 0.616   ┆ 2023-08-2 │\n",
      "│ 14         ┆            ┆            ┆            ┆   ┆       ┆            ┆         ┆ 4         │\n",
      "│            ┆            ┆            ┆            ┆   ┆       ┆            ┆         ┆ 09:30:04  │\n",
      "│ AEA0Q20040 ┆ 0.00125    ┆ 0.628      ┆ 163995     ┆ … ┆ 142   ┆ 4          ┆ 0.428   ┆ 2023-08-2 │\n",
      "│ 15         ┆            ┆            ┆            ┆   ┆       ┆            ┆         ┆ 4         │\n",
      "│            ┆            ┆            ┆            ┆   ┆       ┆            ┆         ┆ 09:30:04  │\n",
      "└────────────┴────────────┴────────────┴────────────┴───┴───────┴────────────┴─────────┴───────────┘\n",
      "shape: (10, 15)\n",
      "┌────────────┬────────────┬────────────┬────────────┬───┬───────┬────────────┬─────────┬───────────┐\n",
      "│ isrc       ┆ acousticne ┆ danceabili ┆ duration_m ┆ … ┆ tempo ┆ time_signa ┆ valence ┆ updated_o │\n",
      "│ ---        ┆ ss         ┆ ty         ┆ s          ┆   ┆ ---   ┆ ture       ┆ ---     ┆ n         │\n",
      "│ str        ┆ ---        ┆ ---        ┆ ---        ┆   ┆ i64   ┆ ---        ┆ f64     ┆ ---       │\n",
      "│            ┆ f64        ┆ f64        ┆ i64        ┆   ┆       ┆ i64        ┆         ┆ str       │\n",
      "╞════════════╪════════════╪════════════╪════════════╪═══╪═══════╪════════════╪═════════╪═══════════╡\n",
      "│ AD4X657521 ┆ 0.906      ┆ 0.65       ┆ 296733     ┆ … ┆ 110   ┆ 4          ┆ 0.336   ┆ 2023-08-2 │\n",
      "│ 84         ┆            ┆            ┆            ┆   ┆       ┆            ┆         ┆ 4         │\n",
      "│            ┆            ┆            ┆            ┆   ┆       ┆            ┆         ┆ 09:27:00  │\n",
      "│ AEA0D19911 ┆ 0.00095    ┆ 0.621      ┆ 191989     ┆ … ┆ 140   ┆ 4          ┆ 0.346   ┆ 2023-08-2 │\n",
      "│ 70         ┆            ┆            ┆            ┆   ┆       ┆            ┆         ┆ 4         │\n",
      "│            ┆            ┆            ┆            ┆   ┆       ┆            ┆         ┆ 09:30:04  │\n",
      "│ AEA0Q20040 ┆ 0.0312     ┆ 0.692      ┆ 282904     ┆ … ┆ 140   ┆ 4          ┆ 0.225   ┆ 2023-08-2 │\n",
      "│ 08         ┆            ┆            ┆            ┆   ┆       ┆            ┆         ┆ 4         │\n",
      "│            ┆            ┆            ┆            ┆   ┆       ┆            ┆         ┆ 09:30:04  │\n",
      "│ AEA0Q20040 ┆ 0.000558   ┆ 0.516      ┆ 197904     ┆ … ┆ 148   ┆ 4          ┆ 0.204   ┆ 2023-08-2 │\n",
      "│ 09         ┆            ┆            ┆            ┆   ┆       ┆            ┆         ┆ 4         │\n",
      "│            ┆            ┆            ┆            ┆   ┆       ┆            ┆         ┆ 09:30:04  │\n",
      "│ …          ┆ …          ┆ …          ┆ …          ┆ … ┆ …     ┆ …          ┆ …       ┆ …         │\n",
      "│ AEA0Q20040 ┆ 0.000251   ┆ 0.552      ┆ 292779     ┆ … ┆ 132   ┆ 4          ┆ 0.407   ┆ 2023-08-2 │\n",
      "│ 12         ┆            ┆            ┆            ┆   ┆       ┆            ┆         ┆ 4         │\n",
      "│            ┆            ┆            ┆            ┆   ┆       ┆            ┆         ┆ 09:30:04  │\n",
      "│ AEA0Q20040 ┆ 0.0053     ┆ 0.713      ┆ 192784     ┆ … ┆ 132   ┆ 4          ┆ 0.783   ┆ 2023-08-2 │\n",
      "│ 13         ┆            ┆            ┆            ┆   ┆       ┆            ┆         ┆ 4         │\n",
      "│            ┆            ┆            ┆            ┆   ┆       ┆            ┆         ┆ 09:30:04  │\n",
      "│ AEA0Q20040 ┆ 0.0179     ┆ 0.52       ┆ 396851     ┆ … ┆ 140   ┆ 4          ┆ 0.616   ┆ 2023-08-2 │\n",
      "│ 14         ┆            ┆            ┆            ┆   ┆       ┆            ┆         ┆ 4         │\n",
      "│            ┆            ┆            ┆            ┆   ┆       ┆            ┆         ┆ 09:30:04  │\n",
      "│ AEA0Q20040 ┆ 0.00125    ┆ 0.628      ┆ 163995     ┆ … ┆ 142   ┆ 4          ┆ 0.428   ┆ 2023-08-2 │\n",
      "│ 15         ┆            ┆            ┆            ┆   ┆       ┆            ┆         ┆ 4         │\n",
      "│            ┆            ┆            ┆            ┆   ┆       ┆            ┆         ┆ 09:30:04  │\n",
      "└────────────┴────────────┴────────────┴────────────┴───┴───────┴────────────┴─────────┴───────────┘\n",
      "shape: (10, 15)\n",
      "┌────────────┬────────────┬────────────┬────────────┬───┬───────┬────────────┬─────────┬───────────┐\n",
      "│ isrc       ┆ acousticne ┆ danceabili ┆ duration_m ┆ … ┆ tempo ┆ time_signa ┆ valence ┆ updated_o │\n",
      "│ ---        ┆ ss         ┆ ty         ┆ s          ┆   ┆ ---   ┆ ture       ┆ ---     ┆ n         │\n",
      "│ str        ┆ ---        ┆ ---        ┆ ---        ┆   ┆ i64   ┆ ---        ┆ f64     ┆ ---       │\n",
      "│            ┆ f64        ┆ f64        ┆ i64        ┆   ┆       ┆ i64        ┆         ┆ str       │\n",
      "╞════════════╪════════════╪════════════╪════════════╪═══╪═══════╪════════════╪═════════╪═══════════╡\n",
      "│ AD4X657521 ┆ 0.906      ┆ 0.65       ┆ 296733     ┆ … ┆ 110   ┆ 4          ┆ 0.336   ┆ 2023-08-2 │\n",
      "│ 84         ┆            ┆            ┆            ┆   ┆       ┆            ┆         ┆ 4         │\n",
      "│            ┆            ┆            ┆            ┆   ┆       ┆            ┆         ┆ 09:27:00  │\n",
      "│ AEA0D19911 ┆ 0.00095    ┆ 0.621      ┆ 191989     ┆ … ┆ 140   ┆ 4          ┆ 0.346   ┆ 2023-08-2 │\n",
      "│ 70         ┆            ┆            ┆            ┆   ┆       ┆            ┆         ┆ 4         │\n",
      "│            ┆            ┆            ┆            ┆   ┆       ┆            ┆         ┆ 09:30:04  │\n",
      "│ AEA0Q20040 ┆ 0.0312     ┆ 0.692      ┆ 282904     ┆ … ┆ 140   ┆ 4          ┆ 0.225   ┆ 2023-08-2 │\n",
      "│ 08         ┆            ┆            ┆            ┆   ┆       ┆            ┆         ┆ 4         │\n",
      "│            ┆            ┆            ┆            ┆   ┆       ┆            ┆         ┆ 09:30:04  │\n",
      "│ AEA0Q20040 ┆ 0.000558   ┆ 0.516      ┆ 197904     ┆ … ┆ 148   ┆ 4          ┆ 0.204   ┆ 2023-08-2 │\n",
      "│ 09         ┆            ┆            ┆            ┆   ┆       ┆            ┆         ┆ 4         │\n",
      "│            ┆            ┆            ┆            ┆   ┆       ┆            ┆         ┆ 09:30:04  │\n",
      "│ …          ┆ …          ┆ …          ┆ …          ┆ … ┆ …     ┆ …          ┆ …       ┆ …         │\n",
      "│ AEA0Q20040 ┆ 0.000251   ┆ 0.552      ┆ 292779     ┆ … ┆ 132   ┆ 4          ┆ 0.407   ┆ 2023-08-2 │\n",
      "│ 12         ┆            ┆            ┆            ┆   ┆       ┆            ┆         ┆ 4         │\n",
      "│            ┆            ┆            ┆            ┆   ┆       ┆            ┆         ┆ 09:30:04  │\n",
      "│ AEA0Q20040 ┆ 0.0053     ┆ 0.713      ┆ 192784     ┆ … ┆ 132   ┆ 4          ┆ 0.783   ┆ 2023-08-2 │\n",
      "│ 13         ┆            ┆            ┆            ┆   ┆       ┆            ┆         ┆ 4         │\n",
      "│            ┆            ┆            ┆            ┆   ┆       ┆            ┆         ┆ 09:30:04  │\n",
      "│ AEA0Q20040 ┆ 0.0179     ┆ 0.52       ┆ 396851     ┆ … ┆ 140   ┆ 4          ┆ 0.616   ┆ 2023-08-2 │\n",
      "│ 14         ┆            ┆            ┆            ┆   ┆       ┆            ┆         ┆ 4         │\n",
      "│            ┆            ┆            ┆            ┆   ┆       ┆            ┆         ┆ 09:30:04  │\n",
      "│ AEA0Q20040 ┆ 0.00125    ┆ 0.628      ┆ 163995     ┆ … ┆ 142   ┆ 4          ┆ 0.428   ┆ 2023-08-2 │\n",
      "│ 15         ┆            ┆            ┆            ┆   ┆       ┆            ┆         ┆ 4         │\n",
      "│            ┆            ┆            ┆            ┆   ┆       ┆            ┆         ┆ 09:30:04  │\n",
      "└────────────┴────────────┴────────────┴────────────┴───┴───────┴────────────┴─────────┴───────────┘\n",
      "shape: (10, 15)\n",
      "┌────────────┬────────────┬────────────┬────────────┬───┬───────┬────────────┬─────────┬───────────┐\n",
      "│ isrc       ┆ acousticne ┆ danceabili ┆ duration_m ┆ … ┆ tempo ┆ time_signa ┆ valence ┆ updated_o │\n",
      "│ ---        ┆ ss         ┆ ty         ┆ s          ┆   ┆ ---   ┆ ture       ┆ ---     ┆ n         │\n",
      "│ str        ┆ ---        ┆ ---        ┆ ---        ┆   ┆ i64   ┆ ---        ┆ f64     ┆ ---       │\n",
      "│            ┆ f64        ┆ f64        ┆ i64        ┆   ┆       ┆ i64        ┆         ┆ str       │\n",
      "╞════════════╪════════════╪════════════╪════════════╪═══╪═══════╪════════════╪═════════╪═══════════╡\n",
      "│ AD4X657521 ┆ 0.906      ┆ 0.65       ┆ 296733     ┆ … ┆ 110   ┆ 4          ┆ 0.336   ┆ 2023-08-2 │\n",
      "│ 84         ┆            ┆            ┆            ┆   ┆       ┆            ┆         ┆ 4         │\n",
      "│            ┆            ┆            ┆            ┆   ┆       ┆            ┆         ┆ 09:27:00  │\n",
      "│ AEA0D19911 ┆ 0.00095    ┆ 0.621      ┆ 191989     ┆ … ┆ 140   ┆ 4          ┆ 0.346   ┆ 2023-08-2 │\n",
      "│ 70         ┆            ┆            ┆            ┆   ┆       ┆            ┆         ┆ 4         │\n",
      "│            ┆            ┆            ┆            ┆   ┆       ┆            ┆         ┆ 09:30:04  │\n",
      "│ AEA0Q20040 ┆ 0.0312     ┆ 0.692      ┆ 282904     ┆ … ┆ 140   ┆ 4          ┆ 0.225   ┆ 2023-08-2 │\n",
      "│ 08         ┆            ┆            ┆            ┆   ┆       ┆            ┆         ┆ 4         │\n",
      "│            ┆            ┆            ┆            ┆   ┆       ┆            ┆         ┆ 09:30:04  │\n",
      "│ AEA0Q20040 ┆ 0.000558   ┆ 0.516      ┆ 197904     ┆ … ┆ 148   ┆ 4          ┆ 0.204   ┆ 2023-08-2 │\n",
      "│ 09         ┆            ┆            ┆            ┆   ┆       ┆            ┆         ┆ 4         │\n",
      "│            ┆            ┆            ┆            ┆   ┆       ┆            ┆         ┆ 09:30:04  │\n",
      "│ …          ┆ …          ┆ …          ┆ …          ┆ … ┆ …     ┆ …          ┆ …       ┆ …         │\n",
      "│ AEA0Q20040 ┆ 0.000251   ┆ 0.552      ┆ 292779     ┆ … ┆ 132   ┆ 4          ┆ 0.407   ┆ 2023-08-2 │\n",
      "│ 12         ┆            ┆            ┆            ┆   ┆       ┆            ┆         ┆ 4         │\n",
      "│            ┆            ┆            ┆            ┆   ┆       ┆            ┆         ┆ 09:30:04  │\n",
      "│ AEA0Q20040 ┆ 0.0053     ┆ 0.713      ┆ 192784     ┆ … ┆ 132   ┆ 4          ┆ 0.783   ┆ 2023-08-2 │\n",
      "│ 13         ┆            ┆            ┆            ┆   ┆       ┆            ┆         ┆ 4         │\n",
      "│            ┆            ┆            ┆            ┆   ┆       ┆            ┆         ┆ 09:30:04  │\n",
      "│ AEA0Q20040 ┆ 0.0179     ┆ 0.52       ┆ 396851     ┆ … ┆ 140   ┆ 4          ┆ 0.616   ┆ 2023-08-2 │\n",
      "│ 14         ┆            ┆            ┆            ┆   ┆       ┆            ┆         ┆ 4         │\n",
      "│            ┆            ┆            ┆            ┆   ┆       ┆            ┆         ┆ 09:30:04  │\n",
      "│ AEA0Q20040 ┆ 0.00125    ┆ 0.628      ┆ 163995     ┆ … ┆ 142   ┆ 4          ┆ 0.428   ┆ 2023-08-2 │\n",
      "│ 15         ┆            ┆            ┆            ┆   ┆       ┆            ┆         ┆ 4         │\n",
      "│            ┆            ┆            ┆            ┆   ┆       ┆            ┆         ┆ 09:30:04  │\n",
      "└────────────┴────────────┴────────────┴────────────┴───┴───────┴────────────┴─────────┴───────────┘\n",
      "shape: (10, 15)\n",
      "┌────────────┬────────────┬────────────┬────────────┬───┬───────┬────────────┬─────────┬───────────┐\n",
      "│ isrc       ┆ acousticne ┆ danceabili ┆ duration_m ┆ … ┆ tempo ┆ time_signa ┆ valence ┆ updated_o │\n",
      "│ ---        ┆ ss         ┆ ty         ┆ s          ┆   ┆ ---   ┆ ture       ┆ ---     ┆ n         │\n",
      "│ str        ┆ ---        ┆ ---        ┆ ---        ┆   ┆ i64   ┆ ---        ┆ f64     ┆ ---       │\n",
      "│            ┆ f64        ┆ f64        ┆ i64        ┆   ┆       ┆ i64        ┆         ┆ str       │\n",
      "╞════════════╪════════════╪════════════╪════════════╪═══╪═══════╪════════════╪═════════╪═══════════╡\n",
      "│ AD4X657521 ┆ 0.906      ┆ 0.65       ┆ 296733     ┆ … ┆ 110   ┆ 4          ┆ 0.336   ┆ 2023-08-2 │\n",
      "│ 84         ┆            ┆            ┆            ┆   ┆       ┆            ┆         ┆ 4         │\n",
      "│            ┆            ┆            ┆            ┆   ┆       ┆            ┆         ┆ 09:27:00  │\n",
      "│ AEA0D19911 ┆ 0.00095    ┆ 0.621      ┆ 191989     ┆ … ┆ 140   ┆ 4          ┆ 0.346   ┆ 2023-08-2 │\n",
      "│ 70         ┆            ┆            ┆            ┆   ┆       ┆            ┆         ┆ 4         │\n",
      "│            ┆            ┆            ┆            ┆   ┆       ┆            ┆         ┆ 09:30:04  │\n",
      "│ AEA0Q20040 ┆ 0.0312     ┆ 0.692      ┆ 282904     ┆ … ┆ 140   ┆ 4          ┆ 0.225   ┆ 2023-08-2 │\n",
      "│ 08         ┆            ┆            ┆            ┆   ┆       ┆            ┆         ┆ 4         │\n",
      "│            ┆            ┆            ┆            ┆   ┆       ┆            ┆         ┆ 09:30:04  │\n",
      "│ AEA0Q20040 ┆ 0.000558   ┆ 0.516      ┆ 197904     ┆ … ┆ 148   ┆ 4          ┆ 0.204   ┆ 2023-08-2 │\n",
      "│ 09         ┆            ┆            ┆            ┆   ┆       ┆            ┆         ┆ 4         │\n",
      "│            ┆            ┆            ┆            ┆   ┆       ┆            ┆         ┆ 09:30:04  │\n",
      "│ …          ┆ …          ┆ …          ┆ …          ┆ … ┆ …     ┆ …          ┆ …       ┆ …         │\n",
      "│ AEA0Q20040 ┆ 0.000251   ┆ 0.552      ┆ 292779     ┆ … ┆ 132   ┆ 4          ┆ 0.407   ┆ 2023-08-2 │\n",
      "│ 12         ┆            ┆            ┆            ┆   ┆       ┆            ┆         ┆ 4         │\n",
      "│            ┆            ┆            ┆            ┆   ┆       ┆            ┆         ┆ 09:30:04  │\n",
      "│ AEA0Q20040 ┆ 0.0053     ┆ 0.713      ┆ 192784     ┆ … ┆ 132   ┆ 4          ┆ 0.783   ┆ 2023-08-2 │\n",
      "│ 13         ┆            ┆            ┆            ┆   ┆       ┆            ┆         ┆ 4         │\n",
      "│            ┆            ┆            ┆            ┆   ┆       ┆            ┆         ┆ 09:30:04  │\n",
      "│ AEA0Q20040 ┆ 0.0179     ┆ 0.52       ┆ 396851     ┆ … ┆ 140   ┆ 4          ┆ 0.616   ┆ 2023-08-2 │\n",
      "│ 14         ┆            ┆            ┆            ┆   ┆       ┆            ┆         ┆ 4         │\n",
      "│            ┆            ┆            ┆            ┆   ┆       ┆            ┆         ┆ 09:30:04  │\n",
      "│ AEA0Q20040 ┆ 0.00125    ┆ 0.628      ┆ 163995     ┆ … ┆ 142   ┆ 4          ┆ 0.428   ┆ 2023-08-2 │\n",
      "│ 15         ┆            ┆            ┆            ┆   ┆       ┆            ┆         ┆ 4         │\n",
      "│            ┆            ┆            ┆            ┆   ┆       ┆            ┆         ┆ 09:30:04  │\n",
      "└────────────┴────────────┴────────────┴────────────┴───┴───────┴────────────┴─────────┴───────────┘\n"
     ]
    }
   ],
   "source": [
    "for data in data_iterator():\n",
    "    print(data)"
   ]
  },
  {
   "cell_type": "markdown",
   "metadata": {},
   "source": [
    "`pyarrow` tabular datasets"
   ]
  },
  {
   "cell_type": "code",
   "execution_count": 74,
   "metadata": {},
   "outputs": [],
   "source": [
    "import pyarrow.dataset as ds\n",
    "import pathlib\n",
    "import sys\n",
    "\n",
    "dataset = ds.dataset(source=['data/test2/audio_features_0.parquet', 'data/test2/audio_features_1.parquet'], format='parquet')\n",
    "batches = dataset.to_batches()\n",
    "\n",
    "\n",
    "# print(f'dataset object size in main memory: {sys.getsizeof(dataset) / (2 ** 20)} MB')\n",
    "# print(f'batches object size in main memory: {sys.getsizeof(batches) / (2 ** 20)} MB')\n",
    "# print(f'first batch size in main memory: {sys.getsizeof(next(batches)) / (2 ** 20)} MB')\n",
    "\n",
    "def select_all_from_table(dataset):\n",
    "    batches = dataset.to_batches()\n",
    "    truncated_dataset = dataset.head(100)\n",
    "    head = pl.DataFrame._from_arrow(truncated_dataset)\n",
    "\n",
    "    pl.Config.set_tbl_hide_dataframe_shape(True)\n",
    "    print(f'shape: ({dataset.count_rows()}, {df.shape[1]})')\n",
    "    print(head)\n",
    "    #pl.Config.set_tbl_hide_dataframe_shape(False)\n",
    "\n"
   ]
  },
  {
   "cell_type": "code",
   "execution_count": 75,
   "metadata": {},
   "outputs": [
    {
     "name": "stdout",
     "output_type": "stream",
     "text": [
      "shape: (1874842, 15)\n",
      "shape: (100, 15)\n",
      "┌────────────┬────────────┬────────────┬────────────┬───┬───────┬────────────┬─────────┬───────────┐\n",
      "│ isrc       ┆ acousticne ┆ danceabili ┆ duration_m ┆ … ┆ tempo ┆ time_signa ┆ valence ┆ updated_o │\n",
      "│ ---        ┆ ss         ┆ ty         ┆ s          ┆   ┆ ---   ┆ ture       ┆ ---     ┆ n         │\n",
      "│ str        ┆ ---        ┆ ---        ┆ ---        ┆   ┆ i64   ┆ ---        ┆ f64     ┆ ---       │\n",
      "│            ┆ f64        ┆ f64        ┆ i64        ┆   ┆       ┆ i64        ┆         ┆ str       │\n",
      "╞════════════╪════════════╪════════════╪════════════╪═══╪═══════╪════════════╪═════════╪═══════════╡\n",
      "│ AD4X657521 ┆ 0.906      ┆ 0.65       ┆ 296733     ┆ … ┆ 110   ┆ 4          ┆ 0.336   ┆ 2023-08-2 │\n",
      "│ 84         ┆            ┆            ┆            ┆   ┆       ┆            ┆         ┆ 4         │\n",
      "│            ┆            ┆            ┆            ┆   ┆       ┆            ┆         ┆ 09:27:00  │\n",
      "│ AEA0D19911 ┆ 0.00095    ┆ 0.621      ┆ 191989     ┆ … ┆ 140   ┆ 4          ┆ 0.346   ┆ 2023-08-2 │\n",
      "│ 70         ┆            ┆            ┆            ┆   ┆       ┆            ┆         ┆ 4         │\n",
      "│            ┆            ┆            ┆            ┆   ┆       ┆            ┆         ┆ 09:30:04  │\n",
      "│ AEA0Q20040 ┆ 0.0312     ┆ 0.692      ┆ 282904     ┆ … ┆ 140   ┆ 4          ┆ 0.225   ┆ 2023-08-2 │\n",
      "│ 08         ┆            ┆            ┆            ┆   ┆       ┆            ┆         ┆ 4         │\n",
      "│            ┆            ┆            ┆            ┆   ┆       ┆            ┆         ┆ 09:30:04  │\n",
      "│ AEA0Q20040 ┆ 0.000558   ┆ 0.516      ┆ 197904     ┆ … ┆ 148   ┆ 4          ┆ 0.204   ┆ 2023-08-2 │\n",
      "│ 09         ┆            ┆            ┆            ┆   ┆       ┆            ┆         ┆ 4         │\n",
      "│            ┆            ┆            ┆            ┆   ┆       ┆            ┆         ┆ 09:30:04  │\n",
      "│ …          ┆ …          ┆ …          ┆ …          ┆ … ┆ …     ┆ …          ┆ …       ┆ …         │\n",
      "│ ATAQ715000 ┆ 0.000225   ┆ 0.671      ┆ 345078     ┆ … ┆ 128   ┆ 4          ┆ 0.475   ┆ 2023-08-2 │\n",
      "│ 15         ┆            ┆            ┆            ┆   ┆       ┆            ┆         ┆ 4         │\n",
      "│            ┆            ┆            ┆            ┆   ┆       ┆            ┆         ┆ 09:31:35  │\n",
      "│ ATAQ715000 ┆ 0.00554    ┆ 0.658      ┆ 255000     ┆ … ┆ 128   ┆ 4          ┆ 0.22    ┆ 2023-08-2 │\n",
      "│ 17         ┆            ┆            ┆            ┆   ┆       ┆            ┆         ┆ 4         │\n",
      "│            ┆            ┆            ┆            ┆   ┆       ┆            ┆         ┆ 09:31:35  │\n",
      "│ ATAQ715000 ┆ 0.00708    ┆ 0.55       ┆ 208731     ┆ … ┆ 130   ┆ 4          ┆ 0.273   ┆ 2023-08-2 │\n",
      "│ 33         ┆            ┆            ┆            ┆   ┆       ┆            ┆         ┆ 4         │\n",
      "│            ┆            ┆            ┆            ┆   ┆       ┆            ┆         ┆ 09:31:35  │\n",
      "│ ATAQ715000 ┆ 0.00015    ┆ 0.478      ┆ 228750     ┆ … ┆ 128   ┆ 4          ┆ 0.29    ┆ 2023-08-2 │\n",
      "│ 41         ┆            ┆            ┆            ┆   ┆       ┆            ┆         ┆ 4         │\n",
      "│            ┆            ┆            ┆            ┆   ┆       ┆            ┆         ┆ 09:31:35  │\n",
      "└────────────┴────────────┴────────────┴────────────┴───┴───────┴────────────┴─────────┴───────────┘\n"
     ]
    }
   ],
   "source": [
    "select_all_from_table(dataset)"
   ]
  },
  {
   "cell_type": "code",
   "execution_count": 7,
   "metadata": {},
   "outputs": [
    {
     "data": {
      "text/plain": [
       "['/home/flemm0/school_stuff/USC_Fall_2023/DSCI551-Final_Project/data/test/audio_features/audio_features_0.parquet',\n",
       " '/home/flemm0/school_stuff/USC_Fall_2023/DSCI551-Final_Project/data/test/audio_features/audio_features_1.parquet',\n",
       " '/home/flemm0/school_stuff/USC_Fall_2023/DSCI551-Final_Project/data/test/audio_features/audio_features_2.parquet',\n",
       " '/home/flemm0/school_stuff/USC_Fall_2023/DSCI551-Final_Project/data/test/audio_features/audio_features_3.parquet',\n",
       " '/home/flemm0/school_stuff/USC_Fall_2023/DSCI551-Final_Project/data/test/audio_features/audio_features_4.parquet']"
      ]
     },
     "execution_count": 7,
     "metadata": {},
     "output_type": "execute_result"
    }
   ],
   "source": [
    "import pyarrow.dataset as ds\n",
    "import pathlib\n",
    "\n",
    "base = pathlib.Path('/home/flemm0/school_stuff/USC_Fall_2023/DSCI551-Final_Project/data/test/')\n",
    "\n",
    "dataset = ds.dataset(base / 'audio_features', format='parquet')\n",
    "\n",
    "dataset.files"
   ]
  },
  {
   "cell_type": "code",
   "execution_count": 15,
   "metadata": {},
   "outputs": [
    {
     "data": {
      "text/html": [
       "<div>\n",
       "<style scoped>\n",
       "    .dataframe tbody tr th:only-of-type {\n",
       "        vertical-align: middle;\n",
       "    }\n",
       "\n",
       "    .dataframe tbody tr th {\n",
       "        vertical-align: top;\n",
       "    }\n",
       "\n",
       "    .dataframe thead th {\n",
       "        text-align: right;\n",
       "    }\n",
       "</style>\n",
       "<table border=\"1\" class=\"dataframe\">\n",
       "  <thead>\n",
       "    <tr style=\"text-align: right;\">\n",
       "      <th></th>\n",
       "      <th>isrc</th>\n",
       "      <th>acousticness</th>\n",
       "    </tr>\n",
       "  </thead>\n",
       "  <tbody>\n",
       "    <tr>\n",
       "      <th>0</th>\n",
       "      <td>AD4X65752184</td>\n",
       "      <td>0.906000</td>\n",
       "    </tr>\n",
       "    <tr>\n",
       "      <th>1</th>\n",
       "      <td>AEA0D1991170</td>\n",
       "      <td>0.000950</td>\n",
       "    </tr>\n",
       "    <tr>\n",
       "      <th>2</th>\n",
       "      <td>AEA0Q2004008</td>\n",
       "      <td>0.031200</td>\n",
       "    </tr>\n",
       "    <tr>\n",
       "      <th>3</th>\n",
       "      <td>AEA0Q2004009</td>\n",
       "      <td>0.000558</td>\n",
       "    </tr>\n",
       "    <tr>\n",
       "      <th>4</th>\n",
       "      <td>AEA0Q2004010</td>\n",
       "      <td>0.009380</td>\n",
       "    </tr>\n",
       "  </tbody>\n",
       "</table>\n",
       "</div>"
      ],
      "text/plain": [
       "           isrc  acousticness\n",
       "0  AD4X65752184      0.906000\n",
       "1  AEA0D1991170      0.000950\n",
       "2  AEA0Q2004008      0.031200\n",
       "3  AEA0Q2004009      0.000558\n",
       "4  AEA0Q2004010      0.009380"
      ]
     },
     "execution_count": 15,
     "metadata": {},
     "output_type": "execute_result"
    }
   ],
   "source": [
    "dataset.to_table(columns=['isrc', 'acousticness']).to_pandas().head()"
   ]
  },
  {
   "cell_type": "code",
   "execution_count": 14,
   "metadata": {},
   "outputs": [
    {
     "data": {
      "text/plain": [
       "<generator at 0x7faa9a064dc0>"
      ]
     },
     "execution_count": 14,
     "metadata": {},
     "output_type": "execute_result"
    }
   ],
   "source": [
    "dataset.to_batches(columns=['isrc', 'acousticness'])"
   ]
  },
  {
   "cell_type": "code",
   "execution_count": null,
   "metadata": {},
   "outputs": [],
   "source": []
  }
 ],
 "metadata": {
  "kernelspec": {
   "display_name": "Python 3",
   "language": "python",
   "name": "python3"
  },
  "language_info": {
   "codemirror_mode": {
    "name": "ipython",
    "version": 3
   },
   "file_extension": ".py",
   "mimetype": "text/x-python",
   "name": "python",
   "nbconvert_exporter": "python",
   "pygments_lexer": "ipython3",
   "version": "3.11.5"
  },
  "orig_nbformat": 4
 },
 "nbformat": 4,
 "nbformat_minor": 2
}
