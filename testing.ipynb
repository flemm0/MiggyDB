{
 "cells": [
  {
   "cell_type": "code",
   "execution_count": 49,
   "metadata": {},
   "outputs": [],
   "source": [
    "import tempfile\n",
    "import pathlib\n",
    "import pyarrow as pa\n",
    "import pyarrow.parquet as pq\n",
    "import numpy as np\n",
    "\n",
    "import pyarrow.compute as pc\n",
    "from pyarrow import csv\n",
    "\n",
    "import os\n",
    "import polars as pl\n",
    "import math"
   ]
  },
  {
   "cell_type": "code",
   "execution_count": 4,
   "metadata": {},
   "outputs": [
    {
     "name": "stdout",
     "output_type": "stream",
     "text": [
      "Size: 0.2697105407714844 MB\n"
     ]
    }
   ],
   "source": [
    "def get_size(path, unit='MB'):\n",
    "    size = os.path.getsize(path)\n",
    "    if unit == 'MB':\n",
    "        print(f'Size: {size / (1024 * 1024)} MB')\n",
    "    elif unit == 'GB':\n",
    "        print(f'Size: {size / (1024 * 1024 * 1024)} GB')\n",
    "    else:\n",
    "        print(f'Size: {size} B')\n",
    "\n",
    "path = './data/test/playlist_2010to2022.parquet'\n",
    "\n",
    "get_size(path=path)"
   ]
  },
  {
   "cell_type": "code",
   "execution_count": 18,
   "metadata": {},
   "outputs": [
    {
     "name": "stdout",
     "output_type": "stream",
     "text": [
      "Size: 458.2281322479248 MB\n"
     ]
    }
   ],
   "source": [
    "path = 'data/test2/audio_features.csv'\n",
    "get_size(path, 'MB')"
   ]
  },
  {
   "cell_type": "code",
   "execution_count": 20,
   "metadata": {},
   "outputs": [
    {
     "data": {
      "text/html": [
       "<div><style>\n",
       ".dataframe > thead > tr > th,\n",
       ".dataframe > tbody > tr > td {\n",
       "  text-align: right;\n",
       "  white-space: pre-wrap;\n",
       "}\n",
       "</style>\n",
       "<small>shape: (5, 15)</small><table border=\"1\" class=\"dataframe\"><thead><tr><th>isrc</th><th>acousticness</th><th>danceability</th><th>duration_ms</th><th>energy</th><th>instrumentalness</th><th>key</th><th>liveness</th><th>loudness</th><th>mode</th><th>speechiness</th><th>tempo</th><th>time_signature</th><th>valence</th><th>updated_on</th></tr><tr><td>str</td><td>f64</td><td>f64</td><td>i64</td><td>f64</td><td>f64</td><td>i64</td><td>f64</td><td>f64</td><td>i64</td><td>f64</td><td>i64</td><td>i64</td><td>f64</td><td>str</td></tr></thead><tbody><tr><td>&quot;AD4X65752184&quot;</td><td>0.906</td><td>0.65</td><td>296733</td><td>0.35</td><td>0.775</td><td>3</td><td>0.114</td><td>-11.777</td><td>1</td><td>0.0284</td><td>110</td><td>4</td><td>0.336</td><td>&quot;2023-08-24 09:…</td></tr><tr><td>&quot;AEA0D1991170&quot;</td><td>0.00095</td><td>0.621</td><td>191989</td><td>0.639</td><td>0.82</td><td>7</td><td>0.506</td><td>-9.258</td><td>1</td><td>0.0775</td><td>140</td><td>4</td><td>0.346</td><td>&quot;2023-08-24 09:…</td></tr><tr><td>&quot;AEA0Q2004008&quot;</td><td>0.0312</td><td>0.692</td><td>282904</td><td>0.98</td><td>0.866</td><td>9</td><td>0.0969</td><td>-9.952</td><td>1</td><td>0.0881</td><td>140</td><td>4</td><td>0.225</td><td>&quot;2023-08-24 09:…</td></tr><tr><td>&quot;AEA0Q2004009&quot;</td><td>0.000558</td><td>0.516</td><td>197904</td><td>0.924</td><td>0.434</td><td>5</td><td>0.153</td><td>-13.564</td><td>0</td><td>0.22</td><td>148</td><td>4</td><td>0.204</td><td>&quot;2023-08-24 09:…</td></tr><tr><td>&quot;AEA0Q2004010&quot;</td><td>0.00938</td><td>0.587</td><td>199471</td><td>0.91</td><td>0.804</td><td>0</td><td>0.563</td><td>-10.552</td><td>1</td><td>0.0596</td><td>136</td><td>4</td><td>0.321</td><td>&quot;2023-08-24 09:…</td></tr></tbody></table></div>"
      ],
      "text/plain": [
       "shape: (5, 15)\n",
       "┌────────────┬────────────┬────────────┬────────────┬───┬───────┬────────────┬─────────┬───────────┐\n",
       "│ isrc       ┆ acousticne ┆ danceabili ┆ duration_m ┆ … ┆ tempo ┆ time_signa ┆ valence ┆ updated_o │\n",
       "│ ---        ┆ ss         ┆ ty         ┆ s          ┆   ┆ ---   ┆ ture       ┆ ---     ┆ n         │\n",
       "│ str        ┆ ---        ┆ ---        ┆ ---        ┆   ┆ i64   ┆ ---        ┆ f64     ┆ ---       │\n",
       "│            ┆ f64        ┆ f64        ┆ i64        ┆   ┆       ┆ i64        ┆         ┆ str       │\n",
       "╞════════════╪════════════╪════════════╪════════════╪═══╪═══════╪════════════╪═════════╪═══════════╡\n",
       "│ AD4X657521 ┆ 0.906      ┆ 0.65       ┆ 296733     ┆ … ┆ 110   ┆ 4          ┆ 0.336   ┆ 2023-08-2 │\n",
       "│ 84         ┆            ┆            ┆            ┆   ┆       ┆            ┆         ┆ 4         │\n",
       "│            ┆            ┆            ┆            ┆   ┆       ┆            ┆         ┆ 09:27:00  │\n",
       "│ AEA0D19911 ┆ 0.00095    ┆ 0.621      ┆ 191989     ┆ … ┆ 140   ┆ 4          ┆ 0.346   ┆ 2023-08-2 │\n",
       "│ 70         ┆            ┆            ┆            ┆   ┆       ┆            ┆         ┆ 4         │\n",
       "│            ┆            ┆            ┆            ┆   ┆       ┆            ┆         ┆ 09:30:04  │\n",
       "│ AEA0Q20040 ┆ 0.0312     ┆ 0.692      ┆ 282904     ┆ … ┆ 140   ┆ 4          ┆ 0.225   ┆ 2023-08-2 │\n",
       "│ 08         ┆            ┆            ┆            ┆   ┆       ┆            ┆         ┆ 4         │\n",
       "│            ┆            ┆            ┆            ┆   ┆       ┆            ┆         ┆ 09:30:04  │\n",
       "│ AEA0Q20040 ┆ 0.000558   ┆ 0.516      ┆ 197904     ┆ … ┆ 148   ┆ 4          ┆ 0.204   ┆ 2023-08-2 │\n",
       "│ 09         ┆            ┆            ┆            ┆   ┆       ┆            ┆         ┆ 4         │\n",
       "│            ┆            ┆            ┆            ┆   ┆       ┆            ┆         ┆ 09:30:04  │\n",
       "│ AEA0Q20040 ┆ 0.00938    ┆ 0.587      ┆ 199471     ┆ … ┆ 136   ┆ 4          ┆ 0.321   ┆ 2023-08-2 │\n",
       "│ 10         ┆            ┆            ┆            ┆   ┆       ┆            ┆         ┆ 4         │\n",
       "│            ┆            ┆            ┆            ┆   ┆       ┆            ┆         ┆ 09:30:04  │\n",
       "└────────────┴────────────┴────────────┴────────────┴───┴───────┴────────────┴─────────┴───────────┘"
      ]
     },
     "execution_count": 20,
     "metadata": {},
     "output_type": "execute_result"
    }
   ],
   "source": [
    "df = pl.read_csv(path)\n",
    "df.head()"
   ]
  },
  {
   "cell_type": "code",
   "execution_count": 21,
   "metadata": {},
   "outputs": [
    {
     "data": {
      "text/plain": [
       "pyarrow.Table\n",
       "isrc: string\n",
       "acousticness: double\n",
       "danceability: double\n",
       "duration_ms: int64\n",
       "energy: double\n",
       "instrumentalness: double\n",
       "key: int64\n",
       "liveness: double\n",
       "loudness: double\n",
       "mode: int64\n",
       "speechiness: double\n",
       "tempo: int64\n",
       "time_signature: int64\n",
       "valence: double\n",
       "updated_on: timestamp[s]\n",
       "----\n",
       "isrc: [[\"AD4X65752184\",\"AEA0D1991170\",\"AEA0Q2004008\",\"AEA0Q2004009\",\"AEA0Q2004010\",...,\"DEAR41525750\",\"DEAR41525761\",\"DEAR41525763\",\"DEAR41526078\",\"DEAR41526200\"],[\"DEAR41526214\",\"DEAR41526249\",\"DEAR41526295\",\"DEAR41526357\",\"DEAR41526411\",...,\"DEGD91107503\",\"DEGD91107505\",\"DEGD91107507\",\"DEGD91107508\",\"DEGD91107509\"],...,[\"CH6541664408\",\"CH6542352743\",\"NLRD52200994\",\"ITZB42136724\",\"NLHR22100856\",...,\"DEAR41870698\",\"US8FK1100058\",\"QZ5FN1825826\",\"GBX6A2200154\",\"GBV8E1549001\"],[\"DECH60912164\",\"NLHR22200278\",\"DEAR42267680\",\"AEA2M2348807\",\"CA5KR1510187\",...,\"DEY472375687\",\"DEFR71400907\",\"GB7NR1743402\",\"DEZN82304108\",\"DEY471812426\"]]\n",
       "acousticness: [[0.906,0.00095,0.0312,0.000558,0.00938,...,0.0098,0.14,0.341,0.0176,0.00036],[0.0000239,0.109,0.00294,0.000376,0.0112,...,0.0291,0.00869,0.0015,0.00557,0.042],...,[0.000238,0.00296,0.000176,0.0847,0.000703,...,0.042,0.77,0.000122,0.0000841,0.000515],[0.000751,0.00122,0.000858,0.00959,0.00119,...,0.00984,0.00605,0.0137,0.361,0.0644]]\n",
       "danceability: [[0.65,0.621,0.692,0.516,0.587,...,0.796,0.79,0.713,0.756,0.451],[0.814,0.635,0.59,0.696,0.793,...,0.802,0.802,0.807,0.811,0.81],...,[0.798,0.717,0.806,0.593,0.712,...,0.655,0.234,0.718,0.466,0.87],[0.805,0.722,0.655,0.689,0.795,...,0.792,0.866,0.835,0.758,0.813]]\n",
       "duration_ms: [[296733,191989,282904,197904,199471,...,363158,251265,268000,383759,546372],[440656,289134,328571,275923,185238,...,249600,249600,249600,249600,249600],...,[465504,308576,503226,137143,489449,...,461455,96000,368640,341250,444075],[453760,451720,270542,276124,328000,...,364868,426356,534407,157555,437760]]\n",
       "energy: [[0.35,0.639,0.98,0.924,0.91,...,0.562,0.729,0.693,0.786,0.958],[0.805,0.857,0.78,0.886,0.895,...,0.686,0.678,0.58,0.613,0.803],...,[0.71,0.639,0.636,0.863,0.745,...,0.936,0.39,0.801,0.78,0.569],[0.575,0.783,0.881,0.577,0.835,...,0.708,0.842,0.451,0.706,0.724]]\n",
       "instrumentalness: [[0.775,0.82,0.866,0.434,0.804,...,0.883,0.00306,0.000042,0.805,0.896],[0.885,0.118,0.852,0.118,0.0000576,...,0.939,0.89,0.9,0.914,0.953],...,[0.792,0.728,0.921,0.784,0.903,...,0.955,0.967,0.939,0.917,0.417],[0.934,0.859,0.863,0.801,0.268,...,0.867,0.842,0.926,0.87,0.166]]\n",
       "key: [[3,7,9,5,0,...,11,8,7,4,5],[10,0,0,0,9,...,9,2,10,5,4],...,[0,6,10,4,6,...,4,4,0,11,9],[11,7,11,5,6,...,10,2,11,4,11]]\n",
       "liveness: [[0.114,0.506,0.0969,0.153,0.563,...,0.115,0.102,0.122,0.0679,0.59],[0.0695,0.0995,0.0745,0.0988,0.552,...,0.164,0.121,0.0973,0.0943,0.0832],...,[0.0726,0.114,0.103,0.224,0.0736,...,0.122,0.157,0.117,0.109,0.0278],[0.0897,0.039,0.646,0.0924,0.0873,...,0.066,0.86,0.0899,0.0755,0.175]]\n",
       "loudness: [[-11.777,-9.258,-9.952,-13.564,-10.552,...,-14.127,-6.381,-8.788,-5.619,-6.29],[-15.906,-7.186,-5.805,-6.079,-2.842,...,-9.673,-8.163,-9.117,-9.073,-9.068],...,[-4.955,-9.959,-8.923,-8.317,-10.184,...,-7.131,-23.852,-8.114,-7.661,-10.274],[-11.097,-8.975,-4.835,-9.385,-6.852,...,-10.468,-10.7,-13.879,-7.9,-9.789]]\n",
       "mode: [[1,1,1,0,1,...,0,1,1,0,0],[1,0,1,0,0,...,0,1,1,1,0],...,[1,1,0,0,1,...,1,0,1,0,0],[1,0,0,1,0,...,0,1,1,0,0]]\n",
       "..."
      ]
     },
     "execution_count": 21,
     "metadata": {},
     "output_type": "execute_result"
    }
   ],
   "source": [
    "table = csv.read_csv(path)\n",
    "table"
   ]
  },
  {
   "cell_type": "code",
   "execution_count": null,
   "metadata": {},
   "outputs": [],
   "source": [
    "table['isrc']"
   ]
  },
  {
   "cell_type": "code",
   "execution_count": 15,
   "metadata": {},
   "outputs": [
    {
     "data": {
      "text/plain": [
       "4687104"
      ]
     },
     "execution_count": 15,
     "metadata": {},
     "output_type": "execute_result"
    }
   ],
   "source": [
    "table.num_rows"
   ]
  },
  {
   "cell_type": "code",
   "execution_count": 17,
   "metadata": {},
   "outputs": [
    {
     "data": {
      "text/plain": [
       "pyarrow.Table\n",
       "isrc: string\n",
       "acousticness: double\n",
       "danceability: double\n",
       "duration_ms: int64\n",
       "energy: double\n",
       "instrumentalness: double\n",
       "key: int64\n",
       "liveness: double\n",
       "loudness: double\n",
       "mode: int64\n",
       "speechiness: double\n",
       "tempo: int64\n",
       "time_signature: int64\n",
       "valence: double\n",
       "updated_on: timestamp[s]\n",
       "----\n",
       "isrc: [[\"AD4X65752184\",\"AEA0D1991170\"]]\n",
       "acousticness: [[0.906,0.00095]]\n",
       "danceability: [[0.65,0.621]]\n",
       "duration_ms: [[296733,191989]]\n",
       "energy: [[0.35,0.639]]\n",
       "instrumentalness: [[0.775,0.82]]\n",
       "key: [[3,7]]\n",
       "liveness: [[0.114,0.506]]\n",
       "loudness: [[-11.777,-9.258]]\n",
       "mode: [[1,1]]\n",
       "..."
      ]
     },
     "execution_count": 17,
     "metadata": {},
     "output_type": "execute_result"
    }
   ],
   "source": [
    "table.slice(length=2)"
   ]
  },
  {
   "cell_type": "code",
   "execution_count": 28,
   "metadata": {},
   "outputs": [],
   "source": [
    "pq.write_table(table=table, where='./data/test2/audio_features.parquet')"
   ]
  },
  {
   "cell_type": "code",
   "execution_count": 40,
   "metadata": {},
   "outputs": [],
   "source": [
    "path = './data/test2/audio_features.parquet'"
   ]
  },
  {
   "cell_type": "code",
   "execution_count": 56,
   "metadata": {},
   "outputs": [],
   "source": [
    "pf = pq.ParquetFile(path)\n",
    "nrows = pf.metadata.num_rows\n",
    "n_partitions = math.ceil(os.path.getsize(path) / (1024 ** 2) / 50)\n",
    "batch_size = nrows / n_partitions\n",
    "first_n_rows = next(pf.iter_batches(batch_size = batch_size))"
   ]
  },
  {
   "cell_type": "code",
   "execution_count": 58,
   "metadata": {},
   "outputs": [
    {
     "data": {
      "text/plain": [
       "pyarrow.RecordBatch\n",
       "isrc: string\n",
       "acousticness: double\n",
       "danceability: double\n",
       "duration_ms: int64\n",
       "energy: double\n",
       "instrumentalness: double\n",
       "key: int64\n",
       "liveness: double\n",
       "loudness: double\n",
       "mode: int64\n",
       "speechiness: double\n",
       "tempo: int64\n",
       "time_signature: int64\n",
       "valence: double\n",
       "updated_on: timestamp[ms]\n",
       "----\n",
       "isrc: [\"AD4X65752184\",\"AEA0D1991170\",\"AEA0Q2004008\",\"AEA0Q2004009\",\"AEA0Q2004010\",\"AEA0Q2004011\",\"AEA0Q2004012\",\"AEA0Q2004013\",\"AEA0Q2004014\",\"AEA0Q2004015\",...,\"RUA491403963\",\"RUA491403964\",\"RUA491403965\",\"RUA491403966\",\"RUA491403967\",\"RUA491403968\",\"RUA491403976\",\"RUA491404101\",\"RUA491404103\",\"RUA491404144\"]\n",
       "acousticness: [0.906,0.00095,0.0312,0.000558,0.00938,0.00854,0.000251,0.0053,0.0179,0.00125,...,0.655,0.0346,0.00011,0.00298,0.117,0.197,0.0613,0.00265,0.000435,0.0000514]\n",
       "danceability: [0.65,0.621,0.692,0.516,0.587,0.656,0.552,0.713,0.52,0.628,...,0.53,0.727,0.585,0.795,0.634,0.693,0.886,0.85,0.939,0.835]\n",
       "duration_ms: [296733,191989,282904,197904,199471,266736,292779,192784,396851,163995,...,352235,312000,520000,323831,288875,258774,523641,199115,219495,315938]\n",
       "energy: [0.35,0.639,0.98,0.924,0.91,0.834,0.96,0.751,0.848,0.989,...,0.986,0.337,0.989,0.909,0.638,0.531,0.488,0.486,0.799,0.693]\n",
       "instrumentalness: [0.775,0.82,0.866,0.434,0.804,0.865,0.792,0.787,0.944,0.902,...,0.785,0.901,0.754,0.691,0.744,0.895,0.594,0.107,0.858,0.915]\n",
       "key: [3,7,9,5,0,6,5,8,6,7,...,7,10,3,7,7,1,9,9,7,6]\n",
       "liveness: [0.114,0.506,0.0969,0.153,0.563,0.0614,0.102,0.11,0.078,0.178,...,0.273,0.111,0.759,0.141,0.0764,0.0839,0.0963,0.168,0.062,0.151]\n",
       "loudness: [-11.777,-9.258,-9.952,-13.564,-10.552,-12.853,-10.45,-12.335,-9.583,-10.978,...,-7.999,-17.155,-5.403,-10.386,-10.02,-9.519,-8.272,-6.085,-4.004,-1.722]\n",
       "mode: [1,1,1,0,1,0,0,0,0,1,...,1,0,0,1,1,0,0,0,1,0]\n",
       "..."
      ]
     },
     "execution_count": 58,
     "metadata": {},
     "output_type": "execute_result"
    }
   ],
   "source": [
    "first_n_rows"
   ]
  },
  {
   "cell_type": "code",
   "execution_count": 36,
   "metadata": {},
   "outputs": [
    {
     "data": {
      "text/plain": [
       "4687104"
      ]
     },
     "execution_count": 36,
     "metadata": {},
     "output_type": "execute_result"
    }
   ],
   "source": [
    "pf.metadata.num_rows"
   ]
  },
  {
   "cell_type": "code",
   "execution_count": 66,
   "metadata": {},
   "outputs": [
    {
     "data": {
      "text/plain": [
       "<pyarrow._parquet.FileMetaData object at 0x11423bec0>\n",
       "  created_by: parquet-cpp-arrow version 13.0.0\n",
       "  num_columns: 15\n",
       "  num_rows: 4687104\n",
       "  num_row_groups: 5\n",
       "  format_version: 2.6\n",
       "  serialized_size: 10131"
      ]
     },
     "execution_count": 66,
     "metadata": {},
     "output_type": "execute_result"
    }
   ],
   "source": [
    "pf.metadata"
   ]
  },
  {
   "cell_type": "code",
   "execution_count": 31,
   "metadata": {},
   "outputs": [
    {
     "name": "stdout",
     "output_type": "stream",
     "text": [
      "Help on method iter_batches in module pyarrow.parquet.core:\n",
      "\n",
      "iter_batches(batch_size=65536, row_groups=None, columns=None, use_threads=True, use_pandas_metadata=False) method of pyarrow.parquet.core.ParquetFile instance\n",
      "    Read streaming batches from a Parquet file.\n",
      "    \n",
      "    Parameters\n",
      "    ----------\n",
      "    batch_size : int, default 64K\n",
      "        Maximum number of records to yield per batch. Batches may be\n",
      "        smaller if there aren't enough rows in the file.\n",
      "    row_groups : list\n",
      "        Only these row groups will be read from the file.\n",
      "    columns : list\n",
      "        If not None, only these columns will be read from the file. A\n",
      "        column name may be a prefix of a nested field, e.g. 'a' will select\n",
      "        'a.b', 'a.c', and 'a.d.e'.\n",
      "    use_threads : boolean, default True\n",
      "        Perform multi-threaded column reads.\n",
      "    use_pandas_metadata : boolean, default False\n",
      "        If True and file has custom pandas schema metadata, ensure that\n",
      "        index columns are also loaded.\n",
      "    \n",
      "    Yields\n",
      "    ------\n",
      "    pyarrow.RecordBatch\n",
      "        Contents of each batch as a record batch\n",
      "    \n",
      "    Examples\n",
      "    --------\n",
      "    Generate an example Parquet file:\n",
      "    \n",
      "    >>> import pyarrow as pa\n",
      "    >>> table = pa.table({'n_legs': [2, 2, 4, 4, 5, 100],\n",
      "    ...                   'animal': [\"Flamingo\", \"Parrot\", \"Dog\", \"Horse\",\n",
      "    ...                              \"Brittle stars\", \"Centipede\"]})\n",
      "    >>> import pyarrow.parquet as pq\n",
      "    >>> pq.write_table(table, 'example.parquet')\n",
      "    >>> parquet_file = pq.ParquetFile('example.parquet')\n",
      "    >>> for i in parquet_file.iter_batches():\n",
      "    ...     print(\"RecordBatch\")\n",
      "    ...     print(i.to_pandas())\n",
      "    ...\n",
      "    RecordBatch\n",
      "       n_legs         animal\n",
      "    0       2       Flamingo\n",
      "    1       2         Parrot\n",
      "    2       4            Dog\n",
      "    3       4          Horse\n",
      "    4       5  Brittle stars\n",
      "    5     100      Centipede\n",
      "\n"
     ]
    }
   ],
   "source": [
    "help(pf.iter_batches)"
   ]
  },
  {
   "cell_type": "code",
   "execution_count": 60,
   "metadata": {},
   "outputs": [
    {
     "data": {
      "text/html": [
       "<div><style>\n",
       ".dataframe > thead > tr > th,\n",
       ".dataframe > tbody > tr > td {\n",
       "  text-align: right;\n",
       "  white-space: pre-wrap;\n",
       "}\n",
       "</style>\n",
       "<small>shape: (2_300, 23)</small><table border=\"1\" class=\"dataframe\"><thead><tr><th>playlist_url</th><th>year</th><th>track_id</th><th>track_name</th><th>track_popularity</th><th>album</th><th>artist_id</th><th>artist_name</th><th>artist_genres</th><th>artist_popularity</th><th>danceability</th><th>energy</th><th>key</th><th>loudness</th><th>mode</th><th>speechiness</th><th>acousticness</th><th>instrumentalness</th><th>liveness</th><th>valence</th><th>tempo</th><th>duration_ms</th><th>time_signature</th></tr><tr><td>str</td><td>i64</td><td>str</td><td>str</td><td>i64</td><td>str</td><td>str</td><td>str</td><td>str</td><td>i64</td><td>f64</td><td>f64</td><td>i64</td><td>f64</td><td>i64</td><td>f64</td><td>f64</td><td>f64</td><td>f64</td><td>f64</td><td>f64</td><td>i64</td><td>i64</td></tr></thead><tbody><tr><td>&quot;https://open.s…</td><td>2000</td><td>&quot;3AJwUDP919kvQ9…</td><td>&quot;Yellow&quot;</td><td>91</td><td>&quot;Parachutes&quot;</td><td>&quot;4gzpq5DPGxSnKT…</td><td>&quot;Coldplay&quot;</td><td>&quot;[&#x27;permanent wa…</td><td>86</td><td>0.429</td><td>0.661</td><td>11</td><td>-7.227</td><td>1</td><td>0.0281</td><td>0.00239</td><td>0.000121</td><td>0.234</td><td>0.285</td><td>173.372</td><td>266773</td><td>4</td></tr><tr><td>&quot;https://open.s…</td><td>2000</td><td>&quot;2m1hi0nfMR9vdG…</td><td>&quot;All The Small …</td><td>84</td><td>&quot;Enema Of The S…</td><td>&quot;6FBDaR13swtiWw…</td><td>&quot;blink-182&quot;</td><td>&quot;[&#x27;alternative …</td><td>75</td><td>0.434</td><td>0.897</td><td>0</td><td>-4.918</td><td>1</td><td>0.0488</td><td>0.0103</td><td>0.0</td><td>0.612</td><td>0.684</td><td>148.726</td><td>167067</td><td>4</td></tr><tr><td>&quot;https://open.s…</td><td>2000</td><td>&quot;3y4LxiYMgDl4Re…</td><td>&quot;Breathe&quot;</td><td>69</td><td>&quot;Breathe&quot;</td><td>&quot;25NQNriVT2YbSW…</td><td>&quot;Faith Hill&quot;</td><td>&quot;[&#x27;contemporary…</td><td>61</td><td>0.529</td><td>0.496</td><td>7</td><td>-9.007</td><td>1</td><td>0.029</td><td>0.173</td><td>0.0</td><td>0.251</td><td>0.278</td><td>136.859</td><td>250547</td><td>4</td></tr><tr><td>&quot;https://open.s…</td><td>2000</td><td>&quot;60a0Rd6pjrkxjP…</td><td>&quot;In the End&quot;</td><td>88</td><td>&quot;Hybrid Theory …</td><td>&quot;6XyY86QOPPrYVG…</td><td>&quot;Linkin Park&quot;</td><td>&quot;[&#x27;alternative …</td><td>83</td><td>0.556</td><td>0.864</td><td>3</td><td>-5.87</td><td>0</td><td>0.0584</td><td>0.00958</td><td>0.0</td><td>0.209</td><td>0.4</td><td>105.143</td><td>216880</td><td>4</td></tr><tr><td>&quot;https://open.s…</td><td>2000</td><td>&quot;62bOmKYxYg7dhr…</td><td>&quot;Bye Bye Bye&quot;</td><td>74</td><td>&quot;No Strings Att…</td><td>&quot;6Ff53KvcvAj5U7…</td><td>&quot;*NSYNC&quot;</td><td>&quot;[&#x27;boy band&#x27;, &#x27;…</td><td>65</td><td>0.61</td><td>0.926</td><td>8</td><td>-4.843</td><td>0</td><td>0.0479</td><td>0.031</td><td>0.0012</td><td>0.0821</td><td>0.861</td><td>172.638</td><td>200400</td><td>4</td></tr><tr><td>&quot;https://open.s…</td><td>2000</td><td>&quot;5Mmk2ii6laakqf…</td><td>&quot;Thong Song&quot;</td><td>73</td><td>&quot;Unleash The Dr…</td><td>&quot;6x9QLdzo6eBZxJ…</td><td>&quot;Sisqo&quot;</td><td>&quot;[&#x27;contemporary…</td><td>56</td><td>0.706</td><td>0.888</td><td>2</td><td>-6.959</td><td>1</td><td>0.0654</td><td>0.119</td><td>0.0000964</td><td>0.07</td><td>0.714</td><td>121.549</td><td>253733</td><td>4</td></tr><tr><td>&quot;https://open.s…</td><td>2000</td><td>&quot;3yfqSUWxFvZELE…</td><td>&quot;The Real Slim …</td><td>88</td><td>&quot;The Marshall M…</td><td>&quot;7dGJo4pcD2V6oG…</td><td>&quot;Eminem&quot;</td><td>&quot;[&#x27;detroit hip …</td><td>88</td><td>0.949</td><td>0.661</td><td>5</td><td>-4.244</td><td>0</td><td>0.0572</td><td>0.0302</td><td>0.0</td><td>0.0454</td><td>0.76</td><td>104.504</td><td>284200</td><td>4</td></tr><tr><td>&quot;https://open.s…</td><td>2000</td><td>&quot;7oQSevUCbYs4Qa…</td><td>&quot;Rock DJ&quot;</td><td>57</td><td>&quot;Sing When You&#x27;…</td><td>&quot;2HcwFjNelS49kF…</td><td>&quot;Robbie William…</td><td>&quot;[&#x27;dance rock&#x27;,…</td><td>69</td><td>0.712</td><td>0.762</td><td>7</td><td>-4.307</td><td>1</td><td>0.0326</td><td>0.026</td><td>0.0</td><td>0.0981</td><td>0.842</td><td>103.032</td><td>260560</td><td>4</td></tr><tr><td>&quot;https://open.s…</td><td>2000</td><td>&quot;7H6ev70Weq6Ddp…</td><td>&quot;Say My Name&quot;</td><td>80</td><td>&quot;The Writing&#x27;s …</td><td>&quot;1Y8cdNmUJH7yBT…</td><td>&quot;Destiny&#x27;s Chil…</td><td>&quot;[&#x27;dance pop&#x27;, …</td><td>69</td><td>0.713</td><td>0.678</td><td>5</td><td>-3.525</td><td>0</td><td>0.102</td><td>0.273</td><td>0.0</td><td>0.149</td><td>0.734</td><td>138.009</td><td>271333</td><td>4</td></tr><tr><td>&quot;https://open.s…</td><td>2000</td><td>&quot;64BbK9SFKH2jk8…</td><td>&quot;Otherside&quot;</td><td>83</td><td>&quot;Californicatio…</td><td>&quot;0L8ExT028jH3dd…</td><td>&quot;Red Hot Chili …</td><td>&quot;[&#x27;alternative …</td><td>80</td><td>0.458</td><td>0.795</td><td>0</td><td>-3.265</td><td>1</td><td>0.0574</td><td>0.00316</td><td>0.000202</td><td>0.0756</td><td>0.513</td><td>123.229</td><td>255373</td><td>4</td></tr><tr><td>&quot;https://open.s…</td><td>2000</td><td>&quot;6ZOBP3NvffbU4S…</td><td>&quot;Kryptonite&quot;</td><td>82</td><td>&quot;The Better Lif…</td><td>&quot;2RTUTCvo6onsAn…</td><td>&quot;3 Doors Down&quot;</td><td>&quot;[&#x27;alternative …</td><td>69</td><td>0.545</td><td>0.865</td><td>11</td><td>-5.708</td><td>0</td><td>0.0286</td><td>0.00664</td><td>0.000011</td><td>0.168</td><td>0.543</td><td>99.009</td><td>233933</td><td>4</td></tr><tr><td>&quot;https://open.s…</td><td>2000</td><td>&quot;7iXF2W9vKmDoGA…</td><td>&quot;Forgot About D…</td><td>82</td><td>&quot;2001&quot;</td><td>&quot;6DPYiyq5kWVQS4…</td><td>&quot;Dr. Dre&quot;</td><td>&quot;[&#x27;g funk&#x27;, &#x27;ga…</td><td>78</td><td>0.924</td><td>0.74</td><td>8</td><td>-1.299</td><td>1</td><td>0.0774</td><td>0.0827</td><td>0.0</td><td>0.163</td><td>0.621</td><td>133.974</td><td>222293</td><td>4</td></tr><tr><td>&hellip;</td><td>&hellip;</td><td>&hellip;</td><td>&hellip;</td><td>&hellip;</td><td>&hellip;</td><td>&hellip;</td><td>&hellip;</td><td>&hellip;</td><td>&hellip;</td><td>&hellip;</td><td>&hellip;</td><td>&hellip;</td><td>&hellip;</td><td>&hellip;</td><td>&hellip;</td><td>&hellip;</td><td>&hellip;</td><td>&hellip;</td><td>&hellip;</td><td>&hellip;</td><td>&hellip;</td><td>&hellip;</td></tr><tr><td>&quot;https://open.s…</td><td>2022</td><td>&quot;72yP0DUlWPyH8P…</td><td>&quot;Hold Me Closer…</td><td>79</td><td>&quot;Hold Me Closer…</td><td>&quot;3PhoLpVuITZKcy…</td><td>&quot;Elton John&quot;</td><td>&quot;[&#x27;glam rock&#x27;, …</td><td>81</td><td>0.667</td><td>0.75</td><td>0</td><td>-4.602</td><td>1</td><td>0.0906</td><td>0.0746</td><td>0.000198</td><td>0.197</td><td>0.486</td><td>126.041</td><td>202246</td><td>4</td></tr><tr><td>&quot;https://open.s…</td><td>2022</td><td>&quot;0WtM2NBVQNNJLh…</td><td>&quot;Calm Down (wit…</td><td>92</td><td>&quot;Calm Down (wit…</td><td>&quot;46pWGuE3dSwY3b…</td><td>&quot;Rema&quot;</td><td>&quot;[&#x27;afrobeats&#x27;, …</td><td>77</td><td>0.801</td><td>0.806</td><td>11</td><td>-5.206</td><td>1</td><td>0.0381</td><td>0.382</td><td>0.000669</td><td>0.114</td><td>0.802</td><td>106.999</td><td>239318</td><td>4</td></tr><tr><td>&quot;https://open.s…</td><td>2022</td><td>&quot;6zJejIfVYLgjud…</td><td>&quot;SNAP&quot;</td><td>3</td><td>&quot;SNAP PACK&quot;</td><td>&quot;46xBNx0j6cwY6s…</td><td>&quot;Rosa Linn&quot;</td><td>&quot;[&#x27;alt z&#x27;]&quot;</td><td>69</td><td>0.565</td><td>0.636</td><td>0</td><td>-8.198</td><td>1</td><td>0.0638</td><td>0.107</td><td>0.0000099</td><td>0.447</td><td>0.525</td><td>170.01</td><td>179551</td><td>4</td></tr><tr><td>&quot;https://open.s…</td><td>2022</td><td>&quot;5ww2BF9slyYgNO…</td><td>&quot;La Bachata&quot;</td><td>88</td><td>&quot;La Bachata&quot;</td><td>&quot;0tmwSHipWxN12f…</td><td>&quot;Manuel Turizo&quot;</td><td>&quot;[&#x27;colombian po…</td><td>82</td><td>0.835</td><td>0.679</td><td>7</td><td>-5.329</td><td>0</td><td>0.0364</td><td>0.583</td><td>0.000002</td><td>0.218</td><td>0.85</td><td>124.98</td><td>162638</td><td>4</td></tr><tr><td>&quot;https://open.s…</td><td>2022</td><td>&quot;0T5iIrXA4p5Gsu…</td><td>&quot;Until I Found …</td><td>84</td><td>&quot;Until I Found …</td><td>&quot;5XKFrudbV4IiuE…</td><td>&quot;Stephen Sanche…</td><td>&quot;[&#x27;gen z singer…</td><td>74</td><td>0.539</td><td>0.508</td><td>10</td><td>-6.05</td><td>1</td><td>0.0288</td><td>0.727</td><td>0.0</td><td>0.174</td><td>0.227</td><td>101.358</td><td>177720</td><td>3</td></tr><tr><td>&quot;https://open.s…</td><td>2022</td><td>&quot;0QHEIqNKsMoOY5…</td><td>&quot;Made You Look&quot;</td><td>86</td><td>&quot;Takin&#x27; It Back…</td><td>&quot;6JL8zeS1NmiOft…</td><td>&quot;Meghan Trainor…</td><td>&quot;[&#x27;hip pop&#x27;, &#x27;p…</td><td>75</td><td>0.838</td><td>0.525</td><td>10</td><td>-3.562</td><td>1</td><td>0.0665</td><td>0.345</td><td>0.000002</td><td>0.0771</td><td>0.884</td><td>144.981</td><td>134256</td><td>4</td></tr><tr><td>&quot;https://open.s…</td><td>2022</td><td>&quot;3rWDp9tBPQR9z6…</td><td>&quot;Midnight Rain&quot;</td><td>86</td><td>&quot;Midnights&quot;</td><td>&quot;06HL4z0CvFAxyc…</td><td>&quot;Taylor Swift&quot;</td><td>&quot;[&#x27;pop&#x27;]&quot;</td><td>100</td><td>0.643</td><td>0.363</td><td>0</td><td>-11.738</td><td>1</td><td>0.0767</td><td>0.69</td><td>0.0000517</td><td>0.115</td><td>0.23</td><td>139.865</td><td>174783</td><td>4</td></tr><tr><td>&quot;https://open.s…</td><td>2022</td><td>&quot;2g6tReTlM2Akp4…</td><td>&quot;Die Hard&quot;</td><td>79</td><td>&quot;Mr. Morale &amp; T…</td><td>&quot;2YZyLoL8N0Wb9x…</td><td>&quot;Kendrick Lamar…</td><td>&quot;[&#x27;conscious hi…</td><td>86</td><td>0.775</td><td>0.736</td><td>1</td><td>-8.072</td><td>0</td><td>0.247</td><td>0.319</td><td>0.00116</td><td>0.127</td><td>0.362</td><td>100.988</td><td>239027</td><td>4</td></tr><tr><td>&quot;https://open.s…</td><td>2022</td><td>&quot;4pi1G1x8tl9Vfd…</td><td>&quot;Big Energy&quot;</td><td>69</td><td>&quot;777&quot;</td><td>&quot;3MdXrJWsbVzdn6…</td><td>&quot;Latto&quot;</td><td>&quot;[&#x27;trap queen&#x27;]…</td><td>85</td><td>0.937</td><td>0.793</td><td>11</td><td>-4.431</td><td>0</td><td>0.115</td><td>0.0453</td><td>0.0</td><td>0.341</td><td>0.794</td><td>106.022</td><td>172540</td><td>4</td></tr><tr><td>&quot;https://open.s…</td><td>2022</td><td>&quot;3LtpKP5abr2qqj…</td><td>&quot;Doja&quot;</td><td>86</td><td>&quot;Doja&quot;</td><td>&quot;5H4yInM5zmHqpK…</td><td>&quot;Central Cee&quot;</td><td>&quot;[&#x27;melodic dril…</td><td>82</td><td>0.911</td><td>0.573</td><td>6</td><td>-7.43</td><td>1</td><td>0.288</td><td>0.38</td><td>0.0</td><td>0.403</td><td>0.972</td><td>140.04</td><td>97393</td><td>4</td></tr><tr><td>&quot;https://open.s…</td><td>2022</td><td>&quot;3XOalgusokruzA…</td><td>&quot;pushin P (feat…</td><td>77</td><td>&quot;DS4EVER&quot;</td><td>&quot;2hlmm7s2ICUX0L…</td><td>&quot;Gunna&quot;</td><td>&quot;[&#x27;atl hip hop&#x27;…</td><td>84</td><td>0.773</td><td>0.422</td><td>1</td><td>-4.572</td><td>0</td><td>0.187</td><td>0.00783</td><td>0.00693</td><td>0.129</td><td>0.488</td><td>77.502</td><td>136267</td><td>1</td></tr><tr><td>&quot;https://open.s…</td><td>2022</td><td>&quot;1r8ZCjfrQxoy2w…</td><td>&quot;Thousand Miles…</td><td>77</td><td>&quot;Thousand Miles…</td><td>&quot;2tIP7SsRs7vjIc…</td><td>&quot;The Kid LAROI&quot;</td><td>&quot;[&#x27;australian h…</td><td>78</td><td>0.376</td><td>0.657</td><td>7</td><td>-4.658</td><td>1</td><td>0.0768</td><td>0.0858</td><td>0.0</td><td>0.0884</td><td>0.203</td><td>80.565</td><td>164782</td><td>4</td></tr></tbody></table></div>"
      ],
      "text/plain": [
       "shape: (2_300, 23)\n",
       "┌─────────────┬──────┬─────────────┬─────────────┬───┬─────────┬─────────┬────────────┬────────────┐\n",
       "│ playlist_ur ┆ year ┆ track_id    ┆ track_name  ┆ … ┆ valence ┆ tempo   ┆ duration_m ┆ time_signa │\n",
       "│ l           ┆ ---  ┆ ---         ┆ ---         ┆   ┆ ---     ┆ ---     ┆ s          ┆ ture       │\n",
       "│ ---         ┆ i64  ┆ str         ┆ str         ┆   ┆ f64     ┆ f64     ┆ ---        ┆ ---        │\n",
       "│ str         ┆      ┆             ┆             ┆   ┆         ┆         ┆ i64        ┆ i64        │\n",
       "╞═════════════╪══════╪═════════════╪═════════════╪═══╪═════════╪═════════╪════════════╪════════════╡\n",
       "│ https://ope ┆ 2000 ┆ 3AJwUDP919k ┆ Yellow      ┆ … ┆ 0.285   ┆ 173.372 ┆ 266773     ┆ 4          │\n",
       "│ n.spotify.c ┆      ┆ vQ9QcozQPxg ┆             ┆   ┆         ┆         ┆            ┆            │\n",
       "│ om/playlis… ┆      ┆             ┆             ┆   ┆         ┆         ┆            ┆            │\n",
       "│ https://ope ┆ 2000 ┆ 2m1hi0nfMR9 ┆ All The     ┆ … ┆ 0.684   ┆ 148.726 ┆ 167067     ┆ 4          │\n",
       "│ n.spotify.c ┆      ┆ vdGC8UcrnwU ┆ Small       ┆   ┆         ┆         ┆            ┆            │\n",
       "│ om/playlis… ┆      ┆             ┆ Things      ┆   ┆         ┆         ┆            ┆            │\n",
       "│ https://ope ┆ 2000 ┆ 3y4LxiYMgDl ┆ Breathe     ┆ … ┆ 0.278   ┆ 136.859 ┆ 250547     ┆ 4          │\n",
       "│ n.spotify.c ┆      ┆ 4RethdzpmNe ┆             ┆   ┆         ┆         ┆            ┆            │\n",
       "│ om/playlis… ┆      ┆             ┆             ┆   ┆         ┆         ┆            ┆            │\n",
       "│ https://ope ┆ 2000 ┆ 60a0Rd6pjrk ┆ In the End  ┆ … ┆ 0.4     ┆ 105.143 ┆ 216880     ┆ 4          │\n",
       "│ n.spotify.c ┆      ┆ xjPbaKzXjfq ┆             ┆   ┆         ┆         ┆            ┆            │\n",
       "│ om/playlis… ┆      ┆             ┆             ┆   ┆         ┆         ┆            ┆            │\n",
       "│ …           ┆ …    ┆ …           ┆ …           ┆ … ┆ …       ┆ …       ┆ …          ┆ …          │\n",
       "│ https://ope ┆ 2022 ┆ 4pi1G1x8tl9 ┆ Big Energy  ┆ … ┆ 0.794   ┆ 106.022 ┆ 172540     ┆ 4          │\n",
       "│ n.spotify.c ┆      ┆ VfdD9bL3maT ┆             ┆   ┆         ┆         ┆            ┆            │\n",
       "│ om/playlis… ┆      ┆             ┆             ┆   ┆         ┆         ┆            ┆            │\n",
       "│ https://ope ┆ 2022 ┆ 3LtpKP5abr2 ┆ Doja        ┆ … ┆ 0.972   ┆ 140.04  ┆ 97393      ┆ 4          │\n",
       "│ n.spotify.c ┆      ┆ qqjunvjlX5i ┆             ┆   ┆         ┆         ┆            ┆            │\n",
       "│ om/playlis… ┆      ┆             ┆             ┆   ┆         ┆         ┆            ┆            │\n",
       "│ https://ope ┆ 2022 ┆ 3XOalgusokr ┆ pushin P    ┆ … ┆ 0.488   ┆ 77.502  ┆ 136267     ┆ 1          │\n",
       "│ n.spotify.c ┆      ┆ uzA5ZBA2Qcb ┆ (feat.      ┆   ┆         ┆         ┆            ┆            │\n",
       "│ om/playlis… ┆      ┆             ┆ Young Thug) ┆   ┆         ┆         ┆            ┆            │\n",
       "│ https://ope ┆ 2022 ┆ 1r8ZCjfrQxo ┆ Thousand    ┆ … ┆ 0.203   ┆ 80.565  ┆ 164782     ┆ 4          │\n",
       "│ n.spotify.c ┆      ┆ y2wVaBUbpwg ┆ Miles       ┆   ┆         ┆         ┆            ┆            │\n",
       "│ om/playlis… ┆      ┆             ┆             ┆   ┆         ┆         ┆            ┆            │\n",
       "└─────────────┴──────┴─────────────┴─────────────┴───┴─────────┴─────────┴────────────┴────────────┘"
      ]
     },
     "execution_count": 60,
     "metadata": {},
     "output_type": "execute_result"
    }
   ],
   "source": [
    "pl.read_csv('data/test/playlist_2010to2022.csv', batch_size=2)"
   ]
  },
  {
   "cell_type": "code",
   "execution_count": 61,
   "metadata": {},
   "outputs": [],
   "source": [
    "from subprocess import check_output\n",
    "\n",
    "def wc(filename):\n",
    "    return int(check_output([\"wc\", \"-l\", filename]).split()[0])"
   ]
  }
 ],
 "metadata": {
  "kernelspec": {
   "display_name": "Python 3",
   "language": "python",
   "name": "python3"
  },
  "language_info": {
   "codemirror_mode": {
    "name": "ipython",
    "version": 3
   },
   "file_extension": ".py",
   "mimetype": "text/x-python",
   "name": "python",
   "nbconvert_exporter": "python",
   "pygments_lexer": "ipython3",
   "version": "3.11.5"
  },
  "orig_nbformat": 4
 },
 "nbformat": 4,
 "nbformat_minor": 2
}
